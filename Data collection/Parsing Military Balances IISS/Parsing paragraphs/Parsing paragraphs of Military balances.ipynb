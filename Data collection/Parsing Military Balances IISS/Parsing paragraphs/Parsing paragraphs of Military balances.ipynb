{
 "cells": [
  {
   "cell_type": "markdown",
   "id": "d4135ef3",
   "metadata": {},
   "source": [
    "# Parsing country paragraphs of Military Balance"
   ]
  },
  {
   "cell_type": "markdown",
   "id": "cd035866",
   "metadata": {},
   "source": [
    "Before obtaining any essential inoformation about country's military capabilities would be easier if I firstly __split__ MB annual report into countries-paragraphs, containing the precious data. That would avoid errors in the further stages."
   ]
  },
  {
   "cell_type": "code",
   "execution_count": 75,
   "id": "53415f71",
   "metadata": {},
   "outputs": [],
   "source": [
    "import polars as pl\n",
    "import numpy as np\n",
    "import fitz\n",
    "import re\n",
    "import pandas as pd"
   ]
  },
  {
   "cell_type": "markdown",
   "id": "0880f672",
   "metadata": {},
   "source": [
    "#### Reading balances"
   ]
  },
  {
   "cell_type": "code",
   "execution_count": 13,
   "id": "ce3f4765",
   "metadata": {},
   "outputs": [],
   "source": [
    "def read_balance(report_year:int, path:str):\n",
    "    \"\"\"\n",
    "    Function receives the year of military balance report and path to pdf report\n",
    "    Returns the text (string format) of the report\n",
    "    \"\"\"\n",
    "    path =  path + str(report_year) +  \".pdf\"\n",
    "    pages = []\n",
    "    with fitz.open(path) as doc:\n",
    "         for page in doc:\n",
    "                pages.append(page.get_text())\n",
    "    balance_text = '\\n'.join(pages)\n",
    "    return balance_text      "
   ]
  },
  {
   "cell_type": "code",
   "execution_count": 14,
   "id": "0774c7c5",
   "metadata": {},
   "outputs": [
    {
     "name": "stdout",
     "output_type": "stream",
     "text": [
      "CPU times: total: 20 s\n",
      "Wall time: 20.3 s\n"
     ]
    }
   ],
   "source": [
    "%%time\n",
    "balances_2013_2022 = [read_balance(i, \"balances pdf/\") for i in range(2013, 2024)]"
   ]
  },
  {
   "cell_type": "markdown",
   "id": "b552dae1",
   "metadata": {},
   "source": [
    "#### Loading countries headings\n",
    "\n",
    "I manually collected all possible countries' headings(they might vary from one balance to another) in txt file. There countries with problem headings - due to pdf format. So I use currencies as splitting token instead of headings. \n",
    "\n",
    "The headings contains country name plus abbreaviation code (the changeable part).For instance - Lithunian headings\n",
    " - Lithuania L\n",
    " - Lithuania LTU"
   ]
  },
  {
   "cell_type": "code",
   "execution_count": 184,
   "id": "fd3ebf05",
   "metadata": {},
   "outputs": [],
   "source": [
    "with open('country_co.txt', encoding = 'utf-8') as file:\n",
    "    lines  =  file.readlines() \n",
    "country_co = '!!!'.join(lines)\n",
    "country_co = re.sub('\\d','', country_co)\n",
    "country_co = re.sub('\\n',' ', country_co)\n",
    "country_co = re.sub('\\t',' ', country_co)\n",
    "country_co = set(country_co.split('!!!') )\n",
    "country_co = ['\\n' + i.strip()  for i in country_co]\n",
    "\n",
    "filtered_country_co =[]\n",
    "regex = re.compile(r'(FYROM|Macedonia|Palesti|Gaza|DPRK|Jericho\\sPA|DRC|Democratic\\sPeopl|Democratic\\sRepublic\\sof|DRC|Congo\\sDRC|Democratic\\sRepublic\\sof\\sCongo\\sDRC)')\n",
    "\n",
    "for i in country_co:\n",
    "    if len(re.findall(regex,i ) ) < 1 :\n",
    "        filtered_country_co.append(i)\n",
    "filtered_country_co.remove('\\n')\n",
    "filtered_country_co.extend(['\\nMacedonian Denar', \n",
    "                            '\\nNorth Korean Won',\n",
    "                            '\\nPalestinian Autonomous Areas',\n",
    "                            '\\nCongolese Franc',\n",
    "                            \"\\nChina, People's Republic of PRC\",\n",
    "                            \"\\nCote D'Ivoire CIV\"\n",
    "                         \n",
    "                           ])\n",
    "country_co = sorted(filtered_country_co)\n",
    "country_co.remove('\\nSouth Sudan')\n"
   ]
  },
  {
   "cell_type": "code",
   "execution_count": 185,
   "id": "8fb1e024",
   "metadata": {},
   "outputs": [],
   "source": [
    "def split_paragraphs(balance, year):\n",
    "    deployers = []\n",
    "    paragraphs = []\n",
    "    countries_dict = {}\n",
    "    pattern = re.compile('(' + '|'.join(country_co) + ')')\n",
    "    balance_splitted = re.split(pattern, balance)\n",
    "    balance_cleaned = list(filter(None, balance_splitted))\n",
    "    balance_cleaned = balance_cleaned[1:-2]\n",
    "    countries_dict = {\n",
    "        'country_co': balance_cleaned[0::2], 'paragraph':balance_cleaned[1::2]\n",
    "    }\n",
    "    df = pd.DataFrame(countries_dict)\n",
    "    df['year'] = year\n",
    "    df['country_co'] = df['country_co'].str.replace('\\n', '')\n",
    "    df['COUNTRY_CO'] = df['country_co'].str.upper()\n",
    "    df.drop_duplicates(subset='country_co', inplace= True)\n",
    "    country_co_df = pd.read_excel('country_co_df.xlsx')\n",
    "    country_co_df['COUNTRY_CO'] = country_co_df['country_co'].str.upper()\n",
    "    df = df.merge(country_co_df[['COUNTRY_CO', 'deployer', 'cowc1', 'ccode1']], how='left', on ='COUNTRY_CO')\n",
    "    #df.drop_duplicates(subset=['ccode1'], inplace=True)\n",
    "    df['year_deployer'] = df['year'].astype(str) + '_' + df['deployer'].astype(str)\n",
    "    df['year_ccode1'] = df['year'].astype(str) + '_' + df['ccode1'].astype(str)\n",
    "    return df"
   ]
  },
  {
   "cell_type": "code",
   "execution_count": 186,
   "id": "0ef60804",
   "metadata": {},
   "outputs": [
    {
     "name": "stdout",
     "output_type": "stream",
     "text": [
      "Balance of 2012  parsed successfully\n",
      "Balance of 2013  parsed successfully\n",
      "Balance of 2014  parsed successfully\n",
      "Balance of 2015  parsed successfully\n",
      "Balance of 2016  parsed successfully\n",
      "Balance of 2017  parsed successfully\n",
      "Balance of 2018  parsed successfully\n",
      "Balance of 2019  parsed successfully\n",
      "Balance of 2020  parsed successfully\n",
      "Balance of 2021  parsed successfully\n",
      "Balance of 2022  parsed successfully\n",
      "CPU times: total: 906 ms\n",
      "Wall time: 941 ms\n"
     ]
    }
   ],
   "source": [
    "%%time\n",
    "countries_table = pd.DataFrame()\n",
    "year_balance = 2012\n",
    "\n",
    "for i in balances_2013_2022:\n",
    "    res = split_paragraphs(i, year_balance)\n",
    "    countries_table = pd.concat([ countries_table, res])\n",
    "    \n",
    "    print(\"Balance of {}  parsed successfully\".format( year_balance))\n",
    "    year_balance +=1\n",
    "res = countries_table"
   ]
  },
  {
   "cell_type": "code",
   "execution_count": 188,
   "id": "8ac86f23",
   "metadata": {},
   "outputs": [],
   "source": [
    "res.to_excel(r\"\\data\\paragraphs.xlsx\", index = None)"
   ]
  }
 ],
 "metadata": {
  "kernelspec": {
   "display_name": "Python 3 (ipykernel)",
   "language": "python",
   "name": "python3"
  },
  "language_info": {
   "codemirror_mode": {
    "name": "ipython",
    "version": 3
   },
   "file_extension": ".py",
   "mimetype": "text/x-python",
   "name": "python",
   "nbconvert_exporter": "python",
   "pygments_lexer": "ipython3",
   "version": "3.11.5"
  }
 },
 "nbformat": 4,
 "nbformat_minor": 5
}
