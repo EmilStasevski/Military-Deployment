{
 "cells": [
  {
   "cell_type": "markdown",
   "id": "88b2c028",
   "metadata": {},
   "source": [
    "# Parsing military deployment"
   ]
  },
  {
   "cell_type": "code",
   "execution_count": 2,
   "id": "71f6579a",
   "metadata": {},
   "outputs": [],
   "source": [
    "import numpy as np\n",
    "import re\n",
    "import pandas as pd\n",
    "import polars as pl\n",
    "import warnings\n",
    "warnings.filterwarnings(\"ignore\")"
   ]
  },
  {
   "cell_type": "code",
   "execution_count": 9,
   "id": "2b2f2dae",
   "metadata": {},
   "outputs": [
    {
     "data": {
      "text/html": [
       "<div>\n",
       "<style scoped>\n",
       "    .dataframe tbody tr th:only-of-type {\n",
       "        vertical-align: middle;\n",
       "    }\n",
       "\n",
       "    .dataframe tbody tr th {\n",
       "        vertical-align: top;\n",
       "    }\n",
       "\n",
       "    .dataframe thead th {\n",
       "        text-align: right;\n",
       "    }\n",
       "</style>\n",
       "<table border=\"1\" class=\"dataframe\">\n",
       "  <thead>\n",
       "    <tr style=\"text-align: right;\">\n",
       "      <th></th>\n",
       "      <th>country_co</th>\n",
       "      <th>paragraph</th>\n",
       "      <th>year</th>\n",
       "      <th>COUNTRY_CO</th>\n",
       "      <th>deployer</th>\n",
       "      <th>cowc1</th>\n",
       "      <th>ccode1</th>\n",
       "      <th>year_deployer</th>\n",
       "      <th>year_ccode1</th>\n",
       "    </tr>\n",
       "  </thead>\n",
       "  <tbody>\n",
       "    <tr>\n",
       "      <th>0</th>\n",
       "      <td>Canada CAN</td>\n",
       "      <td>\\nCanadian Dollar $\\n2011\\n2012\\n2013\\nGDP \\n...</td>\n",
       "      <td>2012</td>\n",
       "      <td>CANADA CAN</td>\n",
       "      <td>Canada</td>\n",
       "      <td>CAN</td>\n",
       "      <td>20</td>\n",
       "      <td>2012_Canada</td>\n",
       "      <td>2012_20</td>\n",
       "    </tr>\n",
       "    <tr>\n",
       "      <th>1</th>\n",
       "      <td>United States US</td>\n",
       "      <td>\\nUnited States Dollar $\\n2011\\n2012\\n2013\\nG...</td>\n",
       "      <td>2012</td>\n",
       "      <td>UNITED STATES US</td>\n",
       "      <td>United States</td>\n",
       "      <td>USA</td>\n",
       "      <td>2</td>\n",
       "      <td>2012_United States</td>\n",
       "      <td>2012_2</td>\n",
       "    </tr>\n",
       "    <tr>\n",
       "      <th>2</th>\n",
       "      <td>Albania ALB</td>\n",
       "      <td>\\nAlbanian Lek \\n2011\\n2012\\n2013\\nGDP \\nlek ...</td>\n",
       "      <td>2012</td>\n",
       "      <td>ALBANIA ALB</td>\n",
       "      <td>Albania</td>\n",
       "      <td>ALB</td>\n",
       "      <td>339</td>\n",
       "      <td>2012_Albania</td>\n",
       "      <td>2012_339</td>\n",
       "    </tr>\n",
       "    <tr>\n",
       "      <th>3</th>\n",
       "      <td>Albania ALB</td>\n",
       "      <td>\\nAlbanian Lek \\n2011\\n2012\\n2013\\nGDP \\nlek ...</td>\n",
       "      <td>2012</td>\n",
       "      <td>ALBANIA ALB</td>\n",
       "      <td>Albania</td>\n",
       "      <td>ALB</td>\n",
       "      <td>339</td>\n",
       "      <td>2012_Albania</td>\n",
       "      <td>2012_339</td>\n",
       "    </tr>\n",
       "    <tr>\n",
       "      <th>4</th>\n",
       "      <td>Austria A</td>\n",
       "      <td>UT \\nEuro € \\n2011\\n2012\\n2013\\nGDP \\n€\\n301bn...</td>\n",
       "      <td>2012</td>\n",
       "      <td>AUSTRIA A</td>\n",
       "      <td>Austria</td>\n",
       "      <td>AUS</td>\n",
       "      <td>305</td>\n",
       "      <td>2012_Austria</td>\n",
       "      <td>2012_305</td>\n",
       "    </tr>\n",
       "  </tbody>\n",
       "</table>\n",
       "</div>"
      ],
      "text/plain": [
       "         country_co                                          paragraph  year  \\\n",
       "0        Canada CAN   \\nCanadian Dollar $\\n2011\\n2012\\n2013\\nGDP \\n...  2012   \n",
       "1  United States US   \\nUnited States Dollar $\\n2011\\n2012\\n2013\\nG...  2012   \n",
       "2       Albania ALB   \\nAlbanian Lek \\n2011\\n2012\\n2013\\nGDP \\nlek ...  2012   \n",
       "3       Albania ALB   \\nAlbanian Lek \\n2011\\n2012\\n2013\\nGDP \\nlek ...  2012   \n",
       "4         Austria A  UT \\nEuro € \\n2011\\n2012\\n2013\\nGDP \\n€\\n301bn...  2012   \n",
       "\n",
       "         COUNTRY_CO       deployer cowc1 ccode1       year_deployer  \\\n",
       "0        CANADA CAN         Canada   CAN     20         2012_Canada   \n",
       "1  UNITED STATES US  United States   USA      2  2012_United States   \n",
       "2       ALBANIA ALB        Albania   ALB    339        2012_Albania   \n",
       "3       ALBANIA ALB        Albania   ALB    339        2012_Albania   \n",
       "4         AUSTRIA A        Austria   AUS    305        2012_Austria   \n",
       "\n",
       "  year_ccode1  \n",
       "0     2012_20  \n",
       "1      2012_2  \n",
       "2    2012_339  \n",
       "3    2012_339  \n",
       "4    2012_305  "
      ]
     },
     "execution_count": 9,
     "metadata": {},
     "output_type": "execute_result"
    }
   ],
   "source": [
    "paragraphs = pd.read_excel(r\"Data\\paragraphs.xlsx\")\n",
    "paragraphs.head()"
   ]
  },
  {
   "cell_type": "markdown",
   "id": "c4c58159",
   "metadata": {},
   "source": [
    "### Retrieving deployment section"
   ]
  },
  {
   "cell_type": "code",
   "execution_count": 15,
   "id": "f6d399da",
   "metadata": {},
   "outputs": [],
   "source": [
    "def find_deployment(paragraph):\n",
    "    pattern1 = re.compile('\\nDEPLOYMENT')\n",
    "    pattern2 = re.compile('\\nFOREIGN\\sFORCES')\n",
    "    deployment_section_final = ''\n",
    "    if len(re.findall(pattern1, paragraph)) > 0:\n",
    "        deployment_section = re.split(pattern1, paragraph)[1]\n",
    "        if len(re.findall(pattern2, deployment_section)) > 0:\n",
    "            deployment_section = re.split(pattern2, deployment_section)[0]\n",
    "            \n",
    "        \n",
    "    else:\n",
    "        deployment_section = 'no deployment'\n",
    "    return deployment_section"
   ]
  },
  {
   "cell_type": "code",
   "execution_count": 16,
   "id": "510ee1ab",
   "metadata": {},
   "outputs": [
    {
     "name": "stdout",
     "output_type": "stream",
     "text": [
      "CPU times: total: 46.9 ms\n",
      "Wall time: 43.6 ms\n"
     ]
    }
   ],
   "source": [
    "%%time\n",
    "paragraphs['deployment'] = paragraphs['paragraph'].apply(lambda x: find_deployment(x))"
   ]
  },
  {
   "cell_type": "markdown",
   "id": "3a4a1cd7",
   "metadata": {},
   "source": [
    "### Retrieving foreign forces section"
   ]
  },
  {
   "cell_type": "code",
   "execution_count": 17,
   "id": "610cf6a9",
   "metadata": {},
   "outputs": [],
   "source": [
    "def find_foreign_forces(paragraph):\n",
    "    pattern1 = re.compile('\\nFOREIGN\\sFORCES')\n",
    "    if len(re.findall(pattern1, paragraph)) > 0:\n",
    "        foreign_forces_section = re.split(pattern1, paragraph)[1]\n",
    "    else:\n",
    "        foreign_forces_section = 'no foreign forces'\n",
    "    return foreign_forces_section"
   ]
  },
  {
   "cell_type": "code",
   "execution_count": 18,
   "id": "281aeb5d",
   "metadata": {},
   "outputs": [
    {
     "name": "stdout",
     "output_type": "stream",
     "text": [
      "CPU times: total: 31.2 ms\n",
      "Wall time: 30.7 ms\n"
     ]
    }
   ],
   "source": [
    "%%time\n",
    "paragraphs['foreign_forces_section'] = paragraphs['paragraph'].apply(lambda x: find_foreign_forces(x))"
   ]
  },
  {
   "cell_type": "markdown",
   "id": "97a18aad",
   "metadata": {},
   "source": [
    "### Parsing deployment section"
   ]
  },
  {
   "cell_type": "code",
   "execution_count": 19,
   "id": "247b51b9",
   "metadata": {},
   "outputs": [],
   "source": [
    "deployment_data = paragraphs[paragraphs.deployment !='no deployment']"
   ]
  },
  {
   "cell_type": "code",
   "execution_count": 20,
   "id": "62e55bf1",
   "metadata": {},
   "outputs": [
    {
     "data": {
      "text/html": [
       "<div>\n",
       "<style scoped>\n",
       "    .dataframe tbody tr th:only-of-type {\n",
       "        vertical-align: middle;\n",
       "    }\n",
       "\n",
       "    .dataframe tbody tr th {\n",
       "        vertical-align: top;\n",
       "    }\n",
       "\n",
       "    .dataframe thead th {\n",
       "        text-align: right;\n",
       "    }\n",
       "</style>\n",
       "<table border=\"1\" class=\"dataframe\">\n",
       "  <thead>\n",
       "    <tr style=\"text-align: right;\">\n",
       "      <th></th>\n",
       "      <th>host_balance</th>\n",
       "      <th>host</th>\n",
       "      <th>ccode2</th>\n",
       "      <th>cowc2</th>\n",
       "    </tr>\n",
       "  </thead>\n",
       "  <tbody>\n",
       "    <tr>\n",
       "      <th>0</th>\n",
       "      <td>AFGHANISTAN</td>\n",
       "      <td>Afghanistan</td>\n",
       "      <td>700</td>\n",
       "      <td>AFG</td>\n",
       "    </tr>\n",
       "    <tr>\n",
       "      <th>1</th>\n",
       "      <td>ALBANIA</td>\n",
       "      <td>Albania</td>\n",
       "      <td>339</td>\n",
       "      <td>ALB</td>\n",
       "    </tr>\n",
       "    <tr>\n",
       "      <th>2</th>\n",
       "      <td>ALGERIA</td>\n",
       "      <td>Algeria</td>\n",
       "      <td>615</td>\n",
       "      <td>ALG</td>\n",
       "    </tr>\n",
       "    <tr>\n",
       "      <th>3</th>\n",
       "      <td>ANDORRA</td>\n",
       "      <td>Andorra</td>\n",
       "      <td>232</td>\n",
       "      <td>AND</td>\n",
       "    </tr>\n",
       "    <tr>\n",
       "      <th>4</th>\n",
       "      <td>ANGOLA</td>\n",
       "      <td>Angola</td>\n",
       "      <td>540</td>\n",
       "      <td>ANG</td>\n",
       "    </tr>\n",
       "  </tbody>\n",
       "</table>\n",
       "</div>"
      ],
      "text/plain": [
       "  host_balance         host ccode2 cowc2\n",
       "0  AFGHANISTAN  Afghanistan    700   AFG\n",
       "1      ALBANIA      Albania    339   ALB\n",
       "2      ALGERIA      Algeria    615   ALG\n",
       "3      ANDORRA      Andorra    232   AND\n",
       "4       ANGOLA       Angola    540   ANG"
      ]
     },
     "execution_count": 20,
     "metadata": {},
     "output_type": "execute_result"
    }
   ],
   "source": [
    "host = pd.read_excel('host.xlsx')\n",
    "host.head()"
   ]
  },
  {
   "cell_type": "code",
   "execution_count": 22,
   "id": "18fee4d7",
   "metadata": {},
   "outputs": [
    {
     "name": "stdout",
     "output_type": "stream",
     "text": [
      "CPU times: total: 188 ms\n",
      "Wall time: 197 ms\n"
     ]
    }
   ],
   "source": [
    "%%time\n",
    "deployment_data['deployment_parsed'] = deployment_data['deployment'].apply(lambda x: parse_deployment_section(x) )"
   ]
  },
  {
   "cell_type": "code",
   "execution_count": 23,
   "id": "b03c6b7e",
   "metadata": {},
   "outputs": [],
   "source": [
    "def get_hosts(deployment_section):\n",
    "    pattern = re.compile(r'(' + '|\\n'.join(host['host_balance'])   + ')')\n",
    "    deployment_splitted = re.split(pattern, deployment_section  )\n",
    "    deployment_splitted = list(filter(None, deployment_splitted)) \n",
    "    deployment_splitted = [i.strip() for i in deployment_splitted]\n",
    "    deployment_splitted = list(filter(None, deployment_splitted))\n",
    "    if 'provisions' in deployment_splitted[0]:\n",
    "        deployment_splitted = deployment_splitted[1:]\n",
    "    hosts = deployment_splitted[0::2]\n",
    "    return hosts \n",
    "\n",
    "def get_additional_info(deployment_section):\n",
    "    pattern = re.compile(r'(' + '|\\n'.join(host['host_balance'])   + ')')\n",
    "    deployment_splitted = re.split(pattern, deployment_section  )\n",
    "    deployment_splitted = list(filter(None, deployment_splitted)) \n",
    "    deployment_splitted = [i.strip() for i in deployment_splitted]\n",
    "    deployment_splitted = list(filter(None, deployment_splitted))\n",
    "    if 'provisions' in deployment_splitted[0]:\n",
    "        deployment_splitted = deployment_splitted[1:]\n",
    "    add_info = deployment_splitted[1::2]\n",
    "    return add_info"
   ]
  },
  {
   "cell_type": "code",
   "execution_count": 24,
   "id": "6ec77a2f",
   "metadata": {},
   "outputs": [
    {
     "name": "stdout",
     "output_type": "stream",
     "text": [
      "CPU times: total: 375 ms\n",
      "Wall time: 375 ms\n"
     ]
    }
   ],
   "source": [
    "%%time\n",
    "deployment_data['host_balance'] = deployment_data['deployment'].apply(lambda x: get_hosts(x) )\n",
    "\n",
    "deployment_data['Additional_Info'] = deployment_data['deployment'].apply(lambda x: get_additional_info(x) )"
   ]
  },
  {
   "cell_type": "code",
   "execution_count": 25,
   "id": "092e1e06",
   "metadata": {},
   "outputs": [
    {
     "name": "stdout",
     "output_type": "stream",
     "text": [
      "Функция ошибается всего на 1 случаях деплоймента - т е одной страны в отдельный год.\n",
      "Это 0.06 от удачного числа спарсенных деплойментов\n",
      "\n"
     ]
    }
   ],
   "source": [
    "deployment_data['host_len'] = deployment_data['host_balance'].apply(lambda x: len(x))\n",
    "deployment_data['add_info'] = deployment_data['Additional_Info'].apply(lambda x: len(x))\n",
    "\n",
    "\n",
    "deployment_data['need_check'] = np.where(\n",
    "    deployment_data['host_len'] != deployment_data['add_info'] , 1, 0\n",
    ")\n",
    "\n",
    "error_abolute = deployment_data[deployment_data.need_check ==1 ].shape[0]\n",
    "error_percentage = round(100 * deployment_data[deployment_data.need_check ==1 ].shape[0]/deployment_data.shape[0] ,2 )\n",
    "\n",
    "print(\"Функция ошибается всего на {} случаях деплоймента - т е одной страны в отдельный год.\\\n",
    "\\nЭто {} от удачного числа спарсенных деплойментов\".format(error_abolute, error_percentage))\n",
    "\n",
    "print(\"\")\n",
    "\n",
    "\n",
    "deployment_data_clear = deployment_data[deployment_data.need_check !=1 ]\n",
    "deployment_data_clear = deployment_data_clear[[ 'deployment', 'ccode1', 'deployer', 'host_balance', 'Additional_Info', 'year']]"
   ]
  },
  {
   "cell_type": "code",
   "execution_count": 29,
   "id": "1409fcae",
   "metadata": {},
   "outputs": [
    {
     "data": {
      "text/html": [
       "<div>\n",
       "<style scoped>\n",
       "    .dataframe tbody tr th:only-of-type {\n",
       "        vertical-align: middle;\n",
       "    }\n",
       "\n",
       "    .dataframe tbody tr th {\n",
       "        vertical-align: top;\n",
       "    }\n",
       "\n",
       "    .dataframe thead th {\n",
       "        text-align: right;\n",
       "    }\n",
       "</style>\n",
       "<table border=\"1\" class=\"dataframe\">\n",
       "  <thead>\n",
       "    <tr style=\"text-align: right;\">\n",
       "      <th></th>\n",
       "      <th>ccode1</th>\n",
       "      <th>deployer</th>\n",
       "      <th>host</th>\n",
       "      <th>ccode2</th>\n",
       "      <th>cowc2</th>\n",
       "      <th>Additional_Info</th>\n",
       "    </tr>\n",
       "  </thead>\n",
       "  <tbody>\n",
       "    <tr>\n",
       "      <th>0</th>\n",
       "      <td>20</td>\n",
       "      <td>Canada</td>\n",
       "      <td>Afghanistan</td>\n",
       "      <td>700</td>\n",
       "      <td>AFG</td>\n",
       "      <td>NATO • ISAF (NTM-A) • Operation Attention 529</td>\n",
       "    </tr>\n",
       "    <tr>\n",
       "      <th>1</th>\n",
       "      <td>20</td>\n",
       "      <td>Canada</td>\n",
       "      <td>Arabian Sea</td>\n",
       "      <td>no_ccode2</td>\n",
       "      <td>no_cowc2</td>\n",
       "      <td>&amp; GULF OF ADEN\\nCombined Maritime Forces • CTF...</td>\n",
       "    </tr>\n",
       "    <tr>\n",
       "      <th>2</th>\n",
       "      <td>20</td>\n",
       "      <td>Canada</td>\n",
       "      <td>Cyprus</td>\n",
       "      <td>352</td>\n",
       "      <td>CYP</td>\n",
       "      <td>UN • UNFICYP (Operation Snowgoose) 1</td>\n",
       "    </tr>\n",
       "    <tr>\n",
       "      <th>3</th>\n",
       "      <td>20</td>\n",
       "      <td>Canada</td>\n",
       "      <td>Democratic Republic of the Congo</td>\n",
       "      <td>490</td>\n",
       "      <td>DRC</td>\n",
       "      <td>UN • MONUSCO (Operation Crocodile) 8 obs</td>\n",
       "    </tr>\n",
       "    <tr>\n",
       "      <th>4</th>\n",
       "      <td>20</td>\n",
       "      <td>Canada</td>\n",
       "      <td>Egypt</td>\n",
       "      <td>651</td>\n",
       "      <td>EGY</td>\n",
       "      <td>MFO (Operation Calumet) 28</td>\n",
       "    </tr>\n",
       "    <tr>\n",
       "      <th>...</th>\n",
       "      <td>...</td>\n",
       "      <td>...</td>\n",
       "      <td>...</td>\n",
       "      <td>...</td>\n",
       "      <td>...</td>\n",
       "      <td>...</td>\n",
       "    </tr>\n",
       "    <tr>\n",
       "      <th>9906</th>\n",
       "      <td>552</td>\n",
       "      <td>Zimbabwe</td>\n",
       "      <td>Democratic Republic of the Congo</td>\n",
       "      <td>490</td>\n",
       "      <td>DRC</td>\n",
       "      <td>: UN • \\nMONUSCO 3</td>\n",
       "    </tr>\n",
       "    <tr>\n",
       "      <th>9907</th>\n",
       "      <td>552</td>\n",
       "      <td>Zimbabwe</td>\n",
       "      <td>Mozambique</td>\n",
       "      <td>541</td>\n",
       "      <td>MZM</td>\n",
       "      <td>: SADC • SAMIM 1</td>\n",
       "    </tr>\n",
       "    <tr>\n",
       "      <th>9908</th>\n",
       "      <td>552</td>\n",
       "      <td>Zimbabwe</td>\n",
       "      <td>Mozambique</td>\n",
       "      <td>541</td>\n",
       "      <td>MZM</td>\n",
       "      <td>: SADC • SAMIM 1</td>\n",
       "    </tr>\n",
       "    <tr>\n",
       "      <th>9909</th>\n",
       "      <td>552</td>\n",
       "      <td>Zimbabwe</td>\n",
       "      <td>South Sudan</td>\n",
       "      <td>626</td>\n",
       "      <td>SSD</td>\n",
       "      <td>: UN • UNMISS 14</td>\n",
       "    </tr>\n",
       "    <tr>\n",
       "      <th>9910</th>\n",
       "      <td>552</td>\n",
       "      <td>Zimbabwe</td>\n",
       "      <td>Sudan</td>\n",
       "      <td>625</td>\n",
       "      <td>SUD</td>\n",
       "      <td>: UN • UNISFA 9\\n\\n490\\nTHE MILITARY BALANCE 2...</td>\n",
       "    </tr>\n",
       "  </tbody>\n",
       "</table>\n",
       "<p>9911 rows × 6 columns</p>\n",
       "</div>"
      ],
      "text/plain": [
       "     ccode1  deployer                              host     ccode2     cowc2  \\\n",
       "0        20    Canada                       Afghanistan        700       AFG   \n",
       "1        20    Canada                       Arabian Sea  no_ccode2  no_cowc2   \n",
       "2        20    Canada                            Cyprus        352       CYP   \n",
       "3        20    Canada  Democratic Republic of the Congo        490       DRC   \n",
       "4        20    Canada                             Egypt        651       EGY   \n",
       "...     ...       ...                               ...        ...       ...   \n",
       "9906    552  Zimbabwe  Democratic Republic of the Congo        490       DRC   \n",
       "9907    552  Zimbabwe                        Mozambique        541       MZM   \n",
       "9908    552  Zimbabwe                        Mozambique        541       MZM   \n",
       "9909    552  Zimbabwe                       South Sudan        626       SSD   \n",
       "9910    552  Zimbabwe                             Sudan        625       SUD   \n",
       "\n",
       "                                        Additional_Info  \n",
       "0         NATO • ISAF (NTM-A) • Operation Attention 529  \n",
       "1     & GULF OF ADEN\\nCombined Maritime Forces • CTF...  \n",
       "2                  UN • UNFICYP (Operation Snowgoose) 1  \n",
       "3              UN • MONUSCO (Operation Crocodile) 8 obs  \n",
       "4                            MFO (Operation Calumet) 28  \n",
       "...                                                 ...  \n",
       "9906                                 : UN • \\nMONUSCO 3  \n",
       "9907                                   : SADC • SAMIM 1  \n",
       "9908                                   : SADC • SAMIM 1  \n",
       "9909                                   : UN • UNMISS 14  \n",
       "9910  : UN • UNISFA 9\\n\\n490\\nTHE MILITARY BALANCE 2...  \n",
       "\n",
       "[9911 rows x 6 columns]"
      ]
     },
     "execution_count": 29,
     "metadata": {},
     "output_type": "execute_result"
    }
   ],
   "source": [
    "balance_parsed = deployment_data_clear.explode('host_balance')\n",
    "add_info = deployment_data_clear.explode('Additional_Info')['Additional_Info'].to_list()\n",
    "balance_parsed['Additional_Info'] = add_info\n",
    "balance_parsed = balance_parsed.merge(host, how= 'left', on ='host_balance')\n",
    "balance_parsed[['ccode1', 'deployer', 'host', 'ccode2','cowc2', 'Additional_Info' ]]"
   ]
  }
 ],
 "metadata": {
  "kernelspec": {
   "display_name": "Python 3 (ipykernel)",
   "language": "python",
   "name": "python3"
  },
  "language_info": {
   "codemirror_mode": {
    "name": "ipython",
    "version": 3
   },
   "file_extension": ".py",
   "mimetype": "text/x-python",
   "name": "python",
   "nbconvert_exporter": "python",
   "pygments_lexer": "ipython3",
   "version": "3.11.5"
  }
 },
 "nbformat": 4,
 "nbformat_minor": 5
}
