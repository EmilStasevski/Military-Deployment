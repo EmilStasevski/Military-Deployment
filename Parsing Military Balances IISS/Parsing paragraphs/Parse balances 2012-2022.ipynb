{
 "cells": [
  {
   "cell_type": "code",
   "execution_count": 1,
   "id": "21203551",
   "metadata": {},
   "outputs": [],
   "source": [
    "import fitz\n",
    "import numpy as np\n",
    "import re\n",
    "import pandas as pd\n",
    "import polars as pl\n",
    "import warnings\n",
    "warnings.filterwarnings(\"ignore\")"
   ]
  },
  {
   "cell_type": "code",
   "execution_count": null,
   "id": "27566d28",
   "metadata": {},
   "outputs": [],
   "source": []
  },
  {
   "cell_type": "code",
   "execution_count": 5,
   "id": "8c62525b",
   "metadata": {},
   "outputs": [
    {
     "ename": "SyntaxError",
     "evalue": "invalid syntax (Temp/ipykernel_16976/535383540.py, line 4)",
     "output_type": "error",
     "traceback": [
      "\u001b[1;36m  File \u001b[1;32m\"C:\\Users\\79534\\AppData\\Local\\Temp/ipykernel_16976/535383540.py\"\u001b[1;36m, line \u001b[1;32m4\u001b[0m\n\u001b[1;33m    import\u001b[0m\n\u001b[1;37m           ^\u001b[0m\n\u001b[1;31mSyntaxError\u001b[0m\u001b[1;31m:\u001b[0m invalid syntax\n"
     ]
    }
   ],
   "source": [
    "import re\n",
    "import numpy as np\n",
    "import pandas as pd\n",
    "import \n",
    "\n",
    "class ParseBalances:\n",
    "    def __init__(\n",
    "        self,\n",
    "        balances_list:list,\n",
    "        \n",
    "    )\n",
    "    \n",
    "    \n",
    "    def read_balances()\n",
    "    \n",
    "    def split_paragraphs()\n",
    "    \n",
    "    def find_deployment()\n",
    "    \n",
    "    def find_foreign_forces()\n",
    "    \n",
    "    def get_hosts()\n",
    "    \n",
    "    def get_additional_info()"
   ]
  },
  {
   "cell_type": "code",
   "execution_count": null,
   "id": "d6ae96b1",
   "metadata": {},
   "outputs": [],
   "source": []
  },
  {
   "cell_type": "code",
   "execution_count": null,
   "id": "0022b5e5",
   "metadata": {},
   "outputs": [],
   "source": []
  },
  {
   "cell_type": "code",
   "execution_count": 2,
   "id": "b2e89af9",
   "metadata": {},
   "outputs": [],
   "source": [
    "country_co_df = pd.read_excel('country_co_df.xlsx')\n",
    "country_co_df['COUNTRY_CO'] = country_co_df['country_co'].str.upper()"
   ]
  },
  {
   "cell_type": "code",
   "execution_count": null,
   "id": "74ec081a",
   "metadata": {},
   "outputs": [],
   "source": []
  },
  {
   "cell_type": "code",
   "execution_count": 3,
   "id": "1e0ab7cd",
   "metadata": {},
   "outputs": [
    {
     "ename": "NameError",
     "evalue": "name 'fitz' is not defined",
     "output_type": "error",
     "traceback": [
      "\u001b[1;31m---------------------------------------------------------------------------\u001b[0m",
      "\u001b[1;31mNameError\u001b[0m                                 Traceback (most recent call last)",
      "File \u001b[1;32m<timed exec>:6\u001b[0m\n",
      "\u001b[1;31mNameError\u001b[0m: name 'fitz' is not defined"
     ]
    }
   ],
   "source": [
    "%%time\n",
    "balances_2013_2022 = []\n",
    "\n",
    "for i in range(2013, 2024):\n",
    "    data = []\n",
    "    path= \"balances pdf/\" + str(i)+  \".pdf\"\n",
    "    with fitz.open(path) as doc:\n",
    "        for page in doc:\n",
    "            text = page.get_text()\n",
    "            data.append(text)\n",
    "    lines = []\n",
    "    for i in [i.split('\\n') for i in data]:\n",
    "        for k in i:\n",
    "            lines.append(k)\n",
    "\n",
    "    balance='\\n'.join(lines)\n",
    "\n",
    "    balances_2013_2022.append(balance)"
   ]
  },
  {
   "cell_type": "code",
   "execution_count": null,
   "id": "084f9113",
   "metadata": {},
   "outputs": [],
   "source": []
  },
  {
   "cell_type": "code",
   "execution_count": null,
   "id": "2096e0ad",
   "metadata": {},
   "outputs": [],
   "source": []
  },
  {
   "cell_type": "code",
   "execution_count": 4,
   "id": "0e2574f7",
   "metadata": {},
   "outputs": [],
   "source": [
    "with open('binn/country_co.txt', encoding = 'utf-8') as file:\n",
    "    lines  =  file.readlines() \n",
    "country_co = '!!!'.join(lines)\n",
    "country_co = re.sub('\\d','', country_co)\n",
    "country_co = re.sub('\\n',' ', country_co)\n",
    "country_co = re.sub('\\t',' ', country_co)\n",
    "country_co = set(country_co.split('!!!') )\n",
    "country_co = ['\\n' + i.strip()  for i in country_co]\n",
    "\n",
    "filtered_country_co =[]\n",
    "regex = re.compile(r'(FYROM|Macedonia|Palesti|Gaza|DPRK|Jericho\\sPA|DRC|Democratic\\sPeopl|Democratic\\sRepublic\\sof|DRC|Congo\\sDRC|Democratic\\sRepublic\\sof\\sCongo\\sDRC)')\n",
    "\n",
    "for i in country_co:\n",
    "    if len(re.findall(regex,i ) ) < 1 :\n",
    "        filtered_country_co.append(i)\n",
    "filtered_country_co.remove('\\n')\n",
    "filtered_country_co.extend(['\\nMacedonian Denar', \n",
    "                            '\\nNorth Korean Won',\n",
    "                            '\\nPalestinian Autonomous Areas',\n",
    "                            '\\nCongolese Franc',\n",
    "                            \"\\nChina, People's Republic of PRC\",\n",
    "                            \"\\nCote D'Ivoire CIV\"\n",
    "                         \n",
    "                           ])\n",
    "country_co = sorted(filtered_country_co)\n",
    "country_co.remove('\\nSouth Sudan')"
   ]
  },
  {
   "cell_type": "code",
   "execution_count": null,
   "id": "0fb2d78a",
   "metadata": {},
   "outputs": [],
   "source": []
  },
  {
   "cell_type": "code",
   "execution_count": null,
   "id": "1470cd93",
   "metadata": {},
   "outputs": [],
   "source": []
  },
  {
   "cell_type": "code",
   "execution_count": 5,
   "id": "e92e694f",
   "metadata": {},
   "outputs": [],
   "source": [
    "def split_paragraphs(balance, year):\n",
    "    deployers = []\n",
    "    paragraphs = []\n",
    "    countries_dict = {}\n",
    "    pattern = re.compile('(' + '|'.join(country_co) + ')')\n",
    "    balance_splitted = re.split(pattern, balance)\n",
    "    balance_cleaned = list(filter(None, balance_splitted))\n",
    "    balance_cleaned = balance_cleaned[1:-2]\n",
    "    countries_dict = {\n",
    "        'country_co': balance_cleaned[0::2], 'paragraph':balance_cleaned[1::2]\n",
    "    }\n",
    "    df = pd.DataFrame(countries_dict)\n",
    "    df['year'] = year\n",
    "    df['country_co'] = df['country_co'].str.replace('\\n', '')\n",
    "    df['COUNTRY_CO'] = df['country_co'].str.upper()\n",
    "    df.drop_duplicates(subset='country_co', inplace= True)\n",
    "    df = df.merge(country_co_df[['COUNTRY_CO', 'deployer', 'cowc1', 'ccode1']], how='left', on ='COUNTRY_CO')\n",
    "    #df.drop_duplicates(subset=['ccode1'], inplace=True)\n",
    "    df['year_deployer'] = df['year'].astype(str) + '_' + df['deployer'].astype(str)\n",
    "    df['year_ccode1'] = df['year'].astype(str) + '_' + df['ccode1'].astype(str)\n",
    "    return df"
   ]
  },
  {
   "cell_type": "code",
   "execution_count": 6,
   "id": "f401765c",
   "metadata": {},
   "outputs": [
    {
     "name": "stdout",
     "output_type": "stream",
     "text": [
      "Balance of 2012  parsed successfully\n",
      "Balance of 2013  parsed successfully\n",
      "Balance of 2014  parsed successfully\n",
      "Balance of 2015  parsed successfully\n",
      "Balance of 2016  parsed successfully\n",
      "Balance of 2017  parsed successfully\n",
      "Balance of 2018  parsed successfully\n",
      "Balance of 2019  parsed successfully\n",
      "Balance of 2020  parsed successfully\n",
      "Balance of 2021  parsed successfully\n",
      "Balance of 2022  parsed successfully\n",
      "Wall time: 797 ms\n"
     ]
    }
   ],
   "source": [
    "%%time\n",
    "countries_table = pd.DataFrame()\n",
    "year_balance = 2012\n",
    "\n",
    "for i in balances_2013_2022:\n",
    "    res = split_paragraphs(i, year_balance)\n",
    "    countries_table = pd.concat([ countries_table, res])\n",
    "    \n",
    "    print(\"Balance of {}  parsed successfully\".format( year_balance))\n",
    "    year_balance +=1\n",
    "res = countries_table"
   ]
  },
  {
   "cell_type": "code",
   "execution_count": 200,
   "id": "b3c63c08",
   "metadata": {},
   "outputs": [
    {
     "data": {
      "text/html": [
       "<div>\n",
       "<style scoped>\n",
       "    .dataframe tbody tr th:only-of-type {\n",
       "        vertical-align: middle;\n",
       "    }\n",
       "\n",
       "    .dataframe tbody tr th {\n",
       "        vertical-align: top;\n",
       "    }\n",
       "\n",
       "    .dataframe thead th {\n",
       "        text-align: right;\n",
       "    }\n",
       "</style>\n",
       "<table border=\"1\" class=\"dataframe\">\n",
       "  <thead>\n",
       "    <tr style=\"text-align: right;\">\n",
       "      <th></th>\n",
       "      <th>country_co</th>\n",
       "      <th>paragraph</th>\n",
       "      <th>year</th>\n",
       "      <th>COUNTRY_CO</th>\n",
       "      <th>deployer</th>\n",
       "      <th>cowc1</th>\n",
       "      <th>ccode1</th>\n",
       "      <th>year_deployer</th>\n",
       "      <th>year_ccode1</th>\n",
       "      <th>deployment</th>\n",
       "      <th>foreign_forces_section</th>\n",
       "    </tr>\n",
       "  </thead>\n",
       "  <tbody>\n",
       "    <tr>\n",
       "      <th>0</th>\n",
       "      <td>Canada CAN</td>\n",
       "      <td>\\nCanadian Dollar $\\n2011\\n2012\\n2013\\nGDP \\n...</td>\n",
       "      <td>2012</td>\n",
       "      <td>CANADA CAN</td>\n",
       "      <td>Canada</td>\n",
       "      <td>CAN</td>\n",
       "      <td>20</td>\n",
       "      <td>2012_Canada</td>\n",
       "      <td>2012_20</td>\n",
       "      <td>\\nAFGHANISTAN\\nNATO • ISAF (NTM-A) • Operation...</td>\n",
       "      <td>\\nUnited Kingdom 420; 2 trg unit; 1 hel flt wi...</td>\n",
       "    </tr>\n",
       "    <tr>\n",
       "      <th>1</th>\n",
       "      <td>United States US</td>\n",
       "      <td>\\nUnited States Dollar $\\n2011\\n2012\\n2013\\nG...</td>\n",
       "      <td>2012</td>\n",
       "      <td>UNITED STATES US</td>\n",
       "      <td>United States</td>\n",
       "      <td>USA</td>\n",
       "      <td>2</td>\n",
       "      <td>2012_United States</td>\n",
       "      <td>2012_2</td>\n",
       "      <td>\\nAFGHANISTAN\\nNATO • ISAF 68,000; 1 corps HQ...</td>\n",
       "      <td>\\nCanada 3 USCENTCOM; 303 NORTHCOM (NORAD)\\nGe...</td>\n",
       "    </tr>\n",
       "    <tr>\n",
       "      <th>2</th>\n",
       "      <td>Albania ALB</td>\n",
       "      <td>\\nAlbanian Lek \\n2011\\n2012\\n2013\\nGDP \\nlek ...</td>\n",
       "      <td>2012</td>\n",
       "      <td>ALBANIA ALB</td>\n",
       "      <td>Albania</td>\n",
       "      <td>ALB</td>\n",
       "      <td>339</td>\n",
       "      <td>2012_Albania</td>\n",
       "      <td>2012_339</td>\n",
       "      <td>\\nLegal provisions for foreign deployment:\\nCo...</td>\n",
       "      <td>\\nItaly 18 (Delegazione Italiana Esperti)</td>\n",
       "    </tr>\n",
       "    <tr>\n",
       "      <th>3</th>\n",
       "      <td>Albania ALB</td>\n",
       "      <td>\\nAlbanian Lek \\n2011\\n2012\\n2013\\nGDP \\nlek ...</td>\n",
       "      <td>2012</td>\n",
       "      <td>ALBANIA ALB</td>\n",
       "      <td>Albania</td>\n",
       "      <td>ALB</td>\n",
       "      <td>339</td>\n",
       "      <td>2012_Albania</td>\n",
       "      <td>2012_339</td>\n",
       "      <td>\\nLegal provisions for foreign deployment:\\nCo...</td>\n",
       "      <td>\\nItaly 18 (Delegazione Italiana Esperti)</td>\n",
       "    </tr>\n",
       "    <tr>\n",
       "      <th>4</th>\n",
       "      <td>Austria A</td>\n",
       "      <td>UT \\nEuro € \\n2011\\n2012\\n2013\\nGDP \\n€\\n301bn...</td>\n",
       "      <td>2012</td>\n",
       "      <td>AUSTRIA A</td>\n",
       "      <td>Austria</td>\n",
       "      <td>AUS</td>\n",
       "      <td>305</td>\n",
       "      <td>2012_Austria</td>\n",
       "      <td>2012_305</td>\n",
       "      <td></td>\n",
       "      <td>no foreign forces</td>\n",
       "    </tr>\n",
       "  </tbody>\n",
       "</table>\n",
       "</div>"
      ],
      "text/plain": [
       "         country_co                                          paragraph  year  \\\n",
       "0        Canada CAN   \\nCanadian Dollar $\\n2011\\n2012\\n2013\\nGDP \\n...  2012   \n",
       "1  United States US   \\nUnited States Dollar $\\n2011\\n2012\\n2013\\nG...  2012   \n",
       "2       Albania ALB   \\nAlbanian Lek \\n2011\\n2012\\n2013\\nGDP \\nlek ...  2012   \n",
       "3       Albania ALB   \\nAlbanian Lek \\n2011\\n2012\\n2013\\nGDP \\nlek ...  2012   \n",
       "4         Austria A  UT \\nEuro € \\n2011\\n2012\\n2013\\nGDP \\n€\\n301bn...  2012   \n",
       "\n",
       "         COUNTRY_CO       deployer cowc1 ccode1       year_deployer  \\\n",
       "0        CANADA CAN         Canada   CAN     20         2012_Canada   \n",
       "1  UNITED STATES US  United States   USA      2  2012_United States   \n",
       "2       ALBANIA ALB        Albania   ALB    339        2012_Albania   \n",
       "3       ALBANIA ALB        Albania   ALB    339        2012_Albania   \n",
       "4         AUSTRIA A        Austria   AUS    305        2012_Austria   \n",
       "\n",
       "  year_ccode1                                         deployment  \\\n",
       "0     2012_20  \\nAFGHANISTAN\\nNATO • ISAF (NTM-A) • Operation...   \n",
       "1      2012_2   \\nAFGHANISTAN\\nNATO • ISAF 68,000; 1 corps HQ...   \n",
       "2    2012_339  \\nLegal provisions for foreign deployment:\\nCo...   \n",
       "3    2012_339  \\nLegal provisions for foreign deployment:\\nCo...   \n",
       "4    2012_305                                                      \n",
       "\n",
       "                              foreign_forces_section  \n",
       "0  \\nUnited Kingdom 420; 2 trg unit; 1 hel flt wi...  \n",
       "1  \\nCanada 3 USCENTCOM; 303 NORTHCOM (NORAD)\\nGe...  \n",
       "2          \\nItaly 18 (Delegazione Italiana Esperti)  \n",
       "3          \\nItaly 18 (Delegazione Italiana Esperti)  \n",
       "4                                  no foreign forces  "
      ]
     },
     "execution_count": 200,
     "metadata": {},
     "output_type": "execute_result"
    }
   ],
   "source": [
    "res.head()"
   ]
  },
  {
   "cell_type": "code",
   "execution_count": 233,
   "id": "c2efda30",
   "metadata": {},
   "outputs": [
    {
     "data": {
      "text/plain": [
       "0       \\nCanadian Dollar $\\n2011\\n2012\\n2013\\nGDP \\n...\n",
       "1       \\nUnited States Dollar $\\n2011\\n2012\\n2013\\nG...\n",
       "2       \\nAlbanian Lek \\n2011\\n2012\\n2013\\nGDP \\nlek ...\n",
       "3       \\nAlbanian Lek \\n2011\\n2012\\n2013\\nGDP \\nlek ...\n",
       "4      UT \\nEuro € \\n2011\\n2012\\n2013\\nGDP \\n€\\n301bn...\n",
       "                             ...                        \n",
       "212    \\nUgandan Shilling UGX\\n2021\\n2022\\n2023\\nGDP ...\n",
       "213    \\nUgandan Shilling UGX\\n2021\\n2022\\n2023\\nGDP ...\n",
       "214    MB\\nZambian Kwacha ZMW\\n2021\\n2022\\n2023\\nGDP ...\n",
       "215    \\nZimbabwe Dollar ZWL\\n2021\\n2022\\n2023\\nGDP \\...\n",
       "216    \\nZimbabwe Dollar ZWL\\n2021\\n2022\\n2023\\nGDP \\...\n",
       "Name: paragraph, Length: 2405, dtype: object"
      ]
     },
     "execution_count": 233,
     "metadata": {},
     "output_type": "execute_result"
    }
   ],
   "source": [
    "res['paragraph']"
   ]
  },
  {
   "cell_type": "code",
   "execution_count": 247,
   "id": "8137cfcd",
   "metadata": {},
   "outputs": [],
   "source": [
    "par  = res['paragraph'].values[0]"
   ]
  },
  {
   "cell_type": "code",
   "execution_count": 282,
   "id": "c4544124",
   "metadata": {},
   "outputs": [],
   "source": [
    "def find_deployment(paragraph):\n",
    "    pattern1 = re.compile('\\nDEPLOYMENT')\n",
    "    pattern2 = re.compile('\\nFOREIGN\\sFORCES')\n",
    "    deployment_section_final = ''\n",
    "    if len(re.findall(pattern1, paragraph)) > 0:\n",
    "        deployment_section = re.split(pattern1, paragraph)[1]\n",
    "        if len(re.findall(pattern2, deployment_section)) > 0:\n",
    "            deployment_section = re.split(pattern2, deployment_section)[0]\n",
    "            \n",
    "        \n",
    "    else:\n",
    "        deployment_section = 'no deployment'\n",
    "    return deployment_section"
   ]
  },
  {
   "cell_type": "code",
   "execution_count": 283,
   "id": "ae6718ec",
   "metadata": {
    "scrolled": true
   },
   "outputs": [
    {
     "name": "stdout",
     "output_type": "stream",
     "text": [
      "Wall time: 60.2 ms\n"
     ]
    }
   ],
   "source": [
    "%%time\n",
    "res['deployment'] = res['paragraph'].apply(lambda x: find_deployment(x))"
   ]
  },
  {
   "cell_type": "code",
   "execution_count": 284,
   "id": "54642580",
   "metadata": {},
   "outputs": [],
   "source": [
    "def find_foreign_forces(paragraph):\n",
    "    pattern1 = re.compile('\\nFOREIGN\\sFORCES')\n",
    "    if len(re.findall(pattern1, paragraph)) > 0:\n",
    "        foreign_forces_section = re.split(pattern1, paragraph)[1]\n",
    "    else:\n",
    "        foreign_forces_section = 'no foreign forces'\n",
    "    return foreign_forces_section"
   ]
  },
  {
   "cell_type": "code",
   "execution_count": 285,
   "id": "8d7c27aa",
   "metadata": {},
   "outputs": [
    {
     "name": "stdout",
     "output_type": "stream",
     "text": [
      "Wall time: 49 ms\n"
     ]
    }
   ],
   "source": [
    "%%time\n",
    "res['foreign_forces_section'] = res['paragraph'].apply(lambda x: find_foreign_forces(x))"
   ]
  },
  {
   "cell_type": "markdown",
   "id": "bb6571df",
   "metadata": {},
   "source": [
    "### Парсинг параграфа развертывания"
   ]
  },
  {
   "cell_type": "code",
   "execution_count": 342,
   "id": "18a3bdfe",
   "metadata": {},
   "outputs": [
    {
     "data": {
      "text/html": [
       "<div>\n",
       "<style scoped>\n",
       "    .dataframe tbody tr th:only-of-type {\n",
       "        vertical-align: middle;\n",
       "    }\n",
       "\n",
       "    .dataframe tbody tr th {\n",
       "        vertical-align: top;\n",
       "    }\n",
       "\n",
       "    .dataframe thead th {\n",
       "        text-align: right;\n",
       "    }\n",
       "</style>\n",
       "<table border=\"1\" class=\"dataframe\">\n",
       "  <thead>\n",
       "    <tr style=\"text-align: right;\">\n",
       "      <th></th>\n",
       "      <th>host_balance</th>\n",
       "      <th>host</th>\n",
       "      <th>ccode2</th>\n",
       "      <th>cowc2</th>\n",
       "    </tr>\n",
       "  </thead>\n",
       "  <tbody>\n",
       "    <tr>\n",
       "      <th>0</th>\n",
       "      <td>AFGHANISTAN</td>\n",
       "      <td>Afghanistan</td>\n",
       "      <td>700</td>\n",
       "      <td>AFG</td>\n",
       "    </tr>\n",
       "    <tr>\n",
       "      <th>1</th>\n",
       "      <td>ALBANIA</td>\n",
       "      <td>Albania</td>\n",
       "      <td>339</td>\n",
       "      <td>ALB</td>\n",
       "    </tr>\n",
       "    <tr>\n",
       "      <th>2</th>\n",
       "      <td>ALGERIA</td>\n",
       "      <td>Algeria</td>\n",
       "      <td>615</td>\n",
       "      <td>ALG</td>\n",
       "    </tr>\n",
       "    <tr>\n",
       "      <th>3</th>\n",
       "      <td>ANDORRA</td>\n",
       "      <td>Andorra</td>\n",
       "      <td>232</td>\n",
       "      <td>AND</td>\n",
       "    </tr>\n",
       "    <tr>\n",
       "      <th>4</th>\n",
       "      <td>ANGOLA</td>\n",
       "      <td>Angola</td>\n",
       "      <td>540</td>\n",
       "      <td>ANG</td>\n",
       "    </tr>\n",
       "  </tbody>\n",
       "</table>\n",
       "</div>"
      ],
      "text/plain": [
       "  host_balance         host ccode2 cowc2\n",
       "0  AFGHANISTAN  Afghanistan    700   AFG\n",
       "1      ALBANIA      Albania    339   ALB\n",
       "2      ALGERIA      Algeria    615   ALG\n",
       "3      ANDORRA      Andorra    232   AND\n",
       "4       ANGOLA       Angola    540   ANG"
      ]
     },
     "execution_count": 342,
     "metadata": {},
     "output_type": "execute_result"
    }
   ],
   "source": [
    "host = pd.read_excel('host.xlsx')\n",
    "host.head()"
   ]
  },
  {
   "cell_type": "code",
   "execution_count": 343,
   "id": "9c414f48",
   "metadata": {},
   "outputs": [],
   "source": [
    "deployment_data = res[res.deployment !='no deployment']"
   ]
  },
  {
   "cell_type": "code",
   "execution_count": 347,
   "id": "d98e4eed",
   "metadata": {},
   "outputs": [],
   "source": [
    "def parse_deployment_section(deployment_section):\n",
    "    pattern = re.compile(r'(' + '|\\n'.join(host['host_balance'])   + ')')\n",
    "    deployment_splitted = re.split(pattern, deployment_section  )\n",
    "    deployment_splitted = list(filter(None, deployment_splitted)) \n",
    "    deployment_splitted = [i.strip() for i in deployment_splitted]\n",
    "    deployment_splitted = list(filter(None, deployment_splitted))\n",
    "    if 'provisions' in deployment_splitted[0]:\n",
    "        deployment_splitted = deployment_splitted[1:]\n",
    "    if len(deployment_splitted) % 2 == 0:\n",
    "        return dict(zip(deployment_splitted[::2], deployment_splitted[1::2]))\n",
    "    else:\n",
    "        return 'error'"
   ]
  },
  {
   "cell_type": "code",
   "execution_count": 349,
   "id": "bc00b878",
   "metadata": {},
   "outputs": [
    {
     "name": "stdout",
     "output_type": "stream",
     "text": [
      "Wall time: 422 ms\n"
     ]
    }
   ],
   "source": [
    "%%time\n",
    "deployment_data['deployment_parsed'] = deployment_data['deployment'].apply(lambda x: parse_deployment_section(x) )"
   ]
  },
  {
   "cell_type": "code",
   "execution_count": 374,
   "id": "46d90d70",
   "metadata": {
    "scrolled": false
   },
   "outputs": [],
   "source": [
    "d = deployment_data[deployment_data.deployment_parsed != 'error']"
   ]
  },
  {
   "cell_type": "code",
   "execution_count": null,
   "id": "2d11c6e4",
   "metadata": {},
   "outputs": [],
   "source": []
  },
  {
   "cell_type": "code",
   "execution_count": 371,
   "id": "eb5cbbf4",
   "metadata": {},
   "outputs": [
    {
     "name": "stdout",
     "output_type": "stream",
     "text": [
      "                                       dict_column\n",
      "0      key   value\n",
      "0  key1  value1\n",
      "1  key2  value2\n",
      "1      key   value\n",
      "0  key3  value3\n",
      "1  key4  value4\n"
     ]
    }
   ],
   "source": [
    "df = pd.DataFrame({'dict_column': [{'key1': 'value1', 'key2': 'value2'}, \n",
    "                                   {'key3': 'value3', 'key4': 'value4'}]})\n",
    "\n",
    "# Function to explode the dictionary into two columns\n",
    "def explode_dict(row):\n",
    "    keys = list(row.keys())\n",
    "    values = list(row.values())\n",
    "    return pd.DataFrame({'key': keys, 'value': values})\n",
    "\n",
    "# Apply the function to each row in the DataFrame\n",
    "exploded_df = df['dict_column'].apply(lambda x: explode_dict(x)).reset_index(drop=True)\n",
    "\n",
    "# Merge the exploded DataFrame with the original DataFrame\n",
    "result = pd.concat([df.drop('dict_column', axis=1), exploded_df], axis=1)\n",
    "\n",
    "print(result)"
   ]
  },
  {
   "cell_type": "code",
   "execution_count": 366,
   "id": "bf6b66b1",
   "metadata": {},
   "outputs": [
    {
     "ename": "ValueError",
     "evalue": "Columns must be same length as key",
     "output_type": "error",
     "traceback": [
      "\u001b[1;31m---------------------------------------------------------------------------\u001b[0m",
      "\u001b[1;31mValueError\u001b[0m                                Traceback (most recent call last)",
      "\u001b[1;32m~\\AppData\\Local\\Temp/ipykernel_16720/3644122304.py\u001b[0m in \u001b[0;36m<module>\u001b[1;34m\u001b[0m\n\u001b[0;32m      8\u001b[0m \u001b[1;31m# Explode the 'Details' column and convert it into two separate columns\u001b[0m\u001b[1;33m\u001b[0m\u001b[1;33m\u001b[0m\u001b[0m\n\u001b[0;32m      9\u001b[0m \u001b[0mexploded_df\u001b[0m \u001b[1;33m=\u001b[0m \u001b[0mdf\u001b[0m\u001b[1;33m.\u001b[0m\u001b[0mexplode\u001b[0m\u001b[1;33m(\u001b[0m\u001b[1;34m'Details'\u001b[0m\u001b[1;33m)\u001b[0m\u001b[1;33m\u001b[0m\u001b[1;33m\u001b[0m\u001b[0m\n\u001b[1;32m---> 10\u001b[1;33m \u001b[0mexploded_df\u001b[0m\u001b[1;33m[\u001b[0m\u001b[1;33m[\u001b[0m\u001b[1;34m'Key'\u001b[0m\u001b[1;33m,\u001b[0m \u001b[1;34m'Value'\u001b[0m\u001b[1;33m]\u001b[0m\u001b[1;33m]\u001b[0m \u001b[1;33m=\u001b[0m \u001b[0mexploded_df\u001b[0m\u001b[1;33m[\u001b[0m\u001b[1;34m'Details'\u001b[0m\u001b[1;33m]\u001b[0m\u001b[1;33m.\u001b[0m\u001b[0mapply\u001b[0m\u001b[1;33m(\u001b[0m\u001b[0mpd\u001b[0m\u001b[1;33m.\u001b[0m\u001b[0mSeries\u001b[0m\u001b[1;33m)\u001b[0m\u001b[1;33m\u001b[0m\u001b[1;33m\u001b[0m\u001b[0m\n\u001b[0m",
      "\u001b[1;32m~\\anaconda3\\lib\\site-packages\\pandas\\core\\frame.py\u001b[0m in \u001b[0;36m__setitem__\u001b[1;34m(self, key, value)\u001b[0m\n\u001b[0;32m   3598\u001b[0m             \u001b[0mself\u001b[0m\u001b[1;33m.\u001b[0m\u001b[0m_setitem_frame\u001b[0m\u001b[1;33m(\u001b[0m\u001b[0mkey\u001b[0m\u001b[1;33m,\u001b[0m \u001b[0mvalue\u001b[0m\u001b[1;33m)\u001b[0m\u001b[1;33m\u001b[0m\u001b[1;33m\u001b[0m\u001b[0m\n\u001b[0;32m   3599\u001b[0m         \u001b[1;32melif\u001b[0m \u001b[0misinstance\u001b[0m\u001b[1;33m(\u001b[0m\u001b[0mkey\u001b[0m\u001b[1;33m,\u001b[0m \u001b[1;33m(\u001b[0m\u001b[0mSeries\u001b[0m\u001b[1;33m,\u001b[0m \u001b[0mnp\u001b[0m\u001b[1;33m.\u001b[0m\u001b[0mndarray\u001b[0m\u001b[1;33m,\u001b[0m \u001b[0mlist\u001b[0m\u001b[1;33m,\u001b[0m \u001b[0mIndex\u001b[0m\u001b[1;33m)\u001b[0m\u001b[1;33m)\u001b[0m\u001b[1;33m:\u001b[0m\u001b[1;33m\u001b[0m\u001b[1;33m\u001b[0m\u001b[0m\n\u001b[1;32m-> 3600\u001b[1;33m             \u001b[0mself\u001b[0m\u001b[1;33m.\u001b[0m\u001b[0m_setitem_array\u001b[0m\u001b[1;33m(\u001b[0m\u001b[0mkey\u001b[0m\u001b[1;33m,\u001b[0m \u001b[0mvalue\u001b[0m\u001b[1;33m)\u001b[0m\u001b[1;33m\u001b[0m\u001b[1;33m\u001b[0m\u001b[0m\n\u001b[0m\u001b[0;32m   3601\u001b[0m         \u001b[1;32melif\u001b[0m \u001b[0misinstance\u001b[0m\u001b[1;33m(\u001b[0m\u001b[0mvalue\u001b[0m\u001b[1;33m,\u001b[0m \u001b[0mDataFrame\u001b[0m\u001b[1;33m)\u001b[0m\u001b[1;33m:\u001b[0m\u001b[1;33m\u001b[0m\u001b[1;33m\u001b[0m\u001b[0m\n\u001b[0;32m   3602\u001b[0m             \u001b[0mself\u001b[0m\u001b[1;33m.\u001b[0m\u001b[0m_set_item_frame_value\u001b[0m\u001b[1;33m(\u001b[0m\u001b[0mkey\u001b[0m\u001b[1;33m,\u001b[0m \u001b[0mvalue\u001b[0m\u001b[1;33m)\u001b[0m\u001b[1;33m\u001b[0m\u001b[1;33m\u001b[0m\u001b[0m\n",
      "\u001b[1;32m~\\anaconda3\\lib\\site-packages\\pandas\\core\\frame.py\u001b[0m in \u001b[0;36m_setitem_array\u001b[1;34m(self, key, value)\u001b[0m\n\u001b[0;32m   3637\u001b[0m         \u001b[1;32melse\u001b[0m\u001b[1;33m:\u001b[0m\u001b[1;33m\u001b[0m\u001b[1;33m\u001b[0m\u001b[0m\n\u001b[0;32m   3638\u001b[0m             \u001b[1;32mif\u001b[0m \u001b[0misinstance\u001b[0m\u001b[1;33m(\u001b[0m\u001b[0mvalue\u001b[0m\u001b[1;33m,\u001b[0m \u001b[0mDataFrame\u001b[0m\u001b[1;33m)\u001b[0m\u001b[1;33m:\u001b[0m\u001b[1;33m\u001b[0m\u001b[1;33m\u001b[0m\u001b[0m\n\u001b[1;32m-> 3639\u001b[1;33m                 \u001b[0mcheck_key_length\u001b[0m\u001b[1;33m(\u001b[0m\u001b[0mself\u001b[0m\u001b[1;33m.\u001b[0m\u001b[0mcolumns\u001b[0m\u001b[1;33m,\u001b[0m \u001b[0mkey\u001b[0m\u001b[1;33m,\u001b[0m \u001b[0mvalue\u001b[0m\u001b[1;33m)\u001b[0m\u001b[1;33m\u001b[0m\u001b[1;33m\u001b[0m\u001b[0m\n\u001b[0m\u001b[0;32m   3640\u001b[0m                 \u001b[1;32mfor\u001b[0m \u001b[0mk1\u001b[0m\u001b[1;33m,\u001b[0m \u001b[0mk2\u001b[0m \u001b[1;32min\u001b[0m \u001b[0mzip\u001b[0m\u001b[1;33m(\u001b[0m\u001b[0mkey\u001b[0m\u001b[1;33m,\u001b[0m \u001b[0mvalue\u001b[0m\u001b[1;33m.\u001b[0m\u001b[0mcolumns\u001b[0m\u001b[1;33m)\u001b[0m\u001b[1;33m:\u001b[0m\u001b[1;33m\u001b[0m\u001b[1;33m\u001b[0m\u001b[0m\n\u001b[0;32m   3641\u001b[0m                     \u001b[0mself\u001b[0m\u001b[1;33m[\u001b[0m\u001b[0mk1\u001b[0m\u001b[1;33m]\u001b[0m \u001b[1;33m=\u001b[0m \u001b[0mvalue\u001b[0m\u001b[1;33m[\u001b[0m\u001b[0mk2\u001b[0m\u001b[1;33m]\u001b[0m\u001b[1;33m\u001b[0m\u001b[1;33m\u001b[0m\u001b[0m\n",
      "\u001b[1;32m~\\anaconda3\\lib\\site-packages\\pandas\\core\\indexers.py\u001b[0m in \u001b[0;36mcheck_key_length\u001b[1;34m(columns, key, value)\u001b[0m\n\u001b[0;32m    426\u001b[0m     \u001b[1;32mif\u001b[0m \u001b[0mcolumns\u001b[0m\u001b[1;33m.\u001b[0m\u001b[0mis_unique\u001b[0m\u001b[1;33m:\u001b[0m\u001b[1;33m\u001b[0m\u001b[1;33m\u001b[0m\u001b[0m\n\u001b[0;32m    427\u001b[0m         \u001b[1;32mif\u001b[0m \u001b[0mlen\u001b[0m\u001b[1;33m(\u001b[0m\u001b[0mvalue\u001b[0m\u001b[1;33m.\u001b[0m\u001b[0mcolumns\u001b[0m\u001b[1;33m)\u001b[0m \u001b[1;33m!=\u001b[0m \u001b[0mlen\u001b[0m\u001b[1;33m(\u001b[0m\u001b[0mkey\u001b[0m\u001b[1;33m)\u001b[0m\u001b[1;33m:\u001b[0m\u001b[1;33m\u001b[0m\u001b[1;33m\u001b[0m\u001b[0m\n\u001b[1;32m--> 428\u001b[1;33m             \u001b[1;32mraise\u001b[0m \u001b[0mValueError\u001b[0m\u001b[1;33m(\u001b[0m\u001b[1;34m\"Columns must be same length as key\"\u001b[0m\u001b[1;33m)\u001b[0m\u001b[1;33m\u001b[0m\u001b[1;33m\u001b[0m\u001b[0m\n\u001b[0m\u001b[0;32m    429\u001b[0m     \u001b[1;32melse\u001b[0m\u001b[1;33m:\u001b[0m\u001b[1;33m\u001b[0m\u001b[1;33m\u001b[0m\u001b[0m\n\u001b[0;32m    430\u001b[0m         \u001b[1;31m# Missing keys in columns are represented as -1\u001b[0m\u001b[1;33m\u001b[0m\u001b[1;33m\u001b[0m\u001b[0m\n",
      "\u001b[1;31mValueError\u001b[0m: Columns must be same length as key"
     ]
    }
   ],
   "source": [
    "data = {'ID': [1, 2, 3],\n",
    "        'Details': [{'Name': 'John', 'Age': 25},\n",
    "                    {'Name': 'Alice', 'Age': 30, 'City': 'New York'},\n",
    "                    {'Name': 'Bob', 'Age': 28}]}\n",
    "\n",
    "df = pd.DataFrame(data)\n",
    "\n",
    "# Explode the 'Details' column and convert it into two separate columns\n",
    "exploded_df = df.explode('Details')\n",
    "exploded_df[['Key', 'Value']] = exploded_df['Details'].apply(pd.Series)"
   ]
  },
  {
   "cell_type": "code",
   "execution_count": 362,
   "id": "c6dd26de",
   "metadata": {},
   "outputs": [
    {
     "data": {
      "text/html": [
       "<div>\n",
       "<style scoped>\n",
       "    .dataframe tbody tr th:only-of-type {\n",
       "        vertical-align: middle;\n",
       "    }\n",
       "\n",
       "    .dataframe tbody tr th {\n",
       "        vertical-align: top;\n",
       "    }\n",
       "\n",
       "    .dataframe thead th {\n",
       "        text-align: right;\n",
       "    }\n",
       "</style>\n",
       "<table border=\"1\" class=\"dataframe\">\n",
       "  <thead>\n",
       "    <tr style=\"text-align: right;\">\n",
       "      <th></th>\n",
       "      <th>ID</th>\n",
       "      <th>Details</th>\n",
       "    </tr>\n",
       "  </thead>\n",
       "  <tbody>\n",
       "    <tr>\n",
       "      <th>0</th>\n",
       "      <td>1</td>\n",
       "      <td>Name</td>\n",
       "    </tr>\n",
       "    <tr>\n",
       "      <th>0</th>\n",
       "      <td>1</td>\n",
       "      <td>Age</td>\n",
       "    </tr>\n",
       "    <tr>\n",
       "      <th>1</th>\n",
       "      <td>2</td>\n",
       "      <td>Name</td>\n",
       "    </tr>\n",
       "    <tr>\n",
       "      <th>1</th>\n",
       "      <td>2</td>\n",
       "      <td>Age</td>\n",
       "    </tr>\n",
       "    <tr>\n",
       "      <th>1</th>\n",
       "      <td>2</td>\n",
       "      <td>City</td>\n",
       "    </tr>\n",
       "    <tr>\n",
       "      <th>2</th>\n",
       "      <td>3</td>\n",
       "      <td>Name</td>\n",
       "    </tr>\n",
       "    <tr>\n",
       "      <th>2</th>\n",
       "      <td>3</td>\n",
       "      <td>Age</td>\n",
       "    </tr>\n",
       "  </tbody>\n",
       "</table>\n",
       "</div>"
      ],
      "text/plain": [
       "   ID Details\n",
       "0   1    Name\n",
       "0   1     Age\n",
       "1   2    Name\n",
       "1   2     Age\n",
       "1   2    City\n",
       "2   3    Name\n",
       "2   3     Age"
      ]
     },
     "execution_count": 362,
     "metadata": {},
     "output_type": "execute_result"
    }
   ],
   "source": [
    "data = {'ID': [1, 2, 3],\n",
    "        'Details': [{'Name': 'John', 'Age': 25},\n",
    "                    {'Name': 'Alice', 'Age': 30, 'City': 'New York'},\n",
    "                    {'Name': 'Bob', 'Age': 28}]}\n",
    "\n",
    "df = pd.DataFrame(data)\n",
    "\n",
    "# Explode the 'Details' column\n",
    "exploded_df = df.explode('Details')\n",
    "exploded_df"
   ]
  },
  {
   "cell_type": "code",
   "execution_count": 363,
   "id": "1302f5e7",
   "metadata": {},
   "outputs": [
    {
     "data": {
      "text/html": [
       "<div>\n",
       "<style scoped>\n",
       "    .dataframe tbody tr th:only-of-type {\n",
       "        vertical-align: middle;\n",
       "    }\n",
       "\n",
       "    .dataframe tbody tr th {\n",
       "        vertical-align: top;\n",
       "    }\n",
       "\n",
       "    .dataframe thead th {\n",
       "        text-align: right;\n",
       "    }\n",
       "</style>\n",
       "<table border=\"1\" class=\"dataframe\">\n",
       "  <thead>\n",
       "    <tr style=\"text-align: right;\">\n",
       "      <th></th>\n",
       "      <th>ID</th>\n",
       "      <th>Details</th>\n",
       "    </tr>\n",
       "  </thead>\n",
       "  <tbody>\n",
       "    <tr>\n",
       "      <th>0</th>\n",
       "      <td>1</td>\n",
       "      <td>{'Name': 'John', 'Age': 25}</td>\n",
       "    </tr>\n",
       "    <tr>\n",
       "      <th>1</th>\n",
       "      <td>2</td>\n",
       "      <td>{'Name': 'Alice', 'Age': 30, 'City': 'New York'}</td>\n",
       "    </tr>\n",
       "    <tr>\n",
       "      <th>2</th>\n",
       "      <td>3</td>\n",
       "      <td>{'Name': 'Bob', 'Age': 28}</td>\n",
       "    </tr>\n",
       "  </tbody>\n",
       "</table>\n",
       "</div>"
      ],
      "text/plain": [
       "   ID                                           Details\n",
       "0   1                       {'Name': 'John', 'Age': 25}\n",
       "1   2  {'Name': 'Alice', 'Age': 30, 'City': 'New York'}\n",
       "2   3                        {'Name': 'Bob', 'Age': 28}"
      ]
     },
     "execution_count": 363,
     "metadata": {},
     "output_type": "execute_result"
    }
   ],
   "source": [
    "df"
   ]
  },
  {
   "cell_type": "code",
   "execution_count": 106,
   "id": "d20ace69",
   "metadata": {},
   "outputs": [],
   "source": [
    "def get_hosts(deployment_section):\n",
    "    pattern = re.compile(r'(' + '|\\n'.join(host['host_balance'])   + ')')\n",
    "    deployment_splitted = re.split(pattern, deployment_section  )\n",
    "    deployment_splitted = list(filter(None, deployment_splitted)) \n",
    "    deployment_splitted = [i.strip() for i in deployment_splitted]\n",
    "    deployment_splitted = list(filter(None, deployment_splitted))\n",
    "    if 'provisions' in deployment_splitted[0]:\n",
    "        deployment_splitted = deployment_splitted[1:]\n",
    "    hosts = deployment_splitted[0::2]\n",
    "    return hosts "
   ]
  },
  {
   "cell_type": "code",
   "execution_count": 107,
   "id": "86de1349",
   "metadata": {},
   "outputs": [],
   "source": [
    "def get_additional_info(deployment_section):\n",
    "    pattern = re.compile(r'(' + '|\\n'.join(host['host_balance'])   + ')')\n",
    "    deployment_splitted = re.split(pattern, deployment_section  )\n",
    "    deployment_splitted = list(filter(None, deployment_splitted)) \n",
    "    deployment_splitted = [i.strip() for i in deployment_splitted]\n",
    "    deployment_splitted = list(filter(None, deployment_splitted))\n",
    "    if 'provisions' in deployment_splitted[0]:\n",
    "        deployment_splitted = deployment_splitted[1:]\n",
    "    add_info = deployment_splitted[1::2]\n",
    "    return add_info"
   ]
  },
  {
   "cell_type": "code",
   "execution_count": 108,
   "id": "be3ed746",
   "metadata": {},
   "outputs": [
    {
     "name": "stdout",
     "output_type": "stream",
     "text": [
      "Wall time: 842 ms\n"
     ]
    }
   ],
   "source": [
    "%%time\n",
    "deployment_data['host_balance'] = deployment_data['deployment'].apply(lambda x: get_hosts(x) )\n",
    "\n",
    "deployment_data['Additional_Info'] = deployment_data['deployment'].apply(lambda x: get_additional_info(x) )"
   ]
  },
  {
   "cell_type": "code",
   "execution_count": 351,
   "id": "c84e6f97",
   "metadata": {},
   "outputs": [
    {
     "data": {
      "text/html": [
       "<div>\n",
       "<style scoped>\n",
       "    .dataframe tbody tr th:only-of-type {\n",
       "        vertical-align: middle;\n",
       "    }\n",
       "\n",
       "    .dataframe tbody tr th {\n",
       "        vertical-align: top;\n",
       "    }\n",
       "\n",
       "    .dataframe thead th {\n",
       "        text-align: right;\n",
       "    }\n",
       "</style>\n",
       "<table border=\"1\" class=\"dataframe\">\n",
       "  <thead>\n",
       "    <tr style=\"text-align: right;\">\n",
       "      <th></th>\n",
       "      <th>country_co</th>\n",
       "      <th>paragraph</th>\n",
       "      <th>year</th>\n",
       "      <th>COUNTRY_CO</th>\n",
       "      <th>deployer</th>\n",
       "      <th>cowc1</th>\n",
       "      <th>ccode1</th>\n",
       "      <th>year_deployer</th>\n",
       "      <th>year_ccode1</th>\n",
       "      <th>deployment</th>\n",
       "      <th>foreign_forces_section</th>\n",
       "      <th>deployment_parsed</th>\n",
       "    </tr>\n",
       "  </thead>\n",
       "  <tbody>\n",
       "    <tr>\n",
       "      <th>0</th>\n",
       "      <td>Canada CAN</td>\n",
       "      <td>\\nCanadian Dollar $\\n2011\\n2012\\n2013\\nGDP \\n...</td>\n",
       "      <td>2012</td>\n",
       "      <td>CANADA CAN</td>\n",
       "      <td>Canada</td>\n",
       "      <td>CAN</td>\n",
       "      <td>20</td>\n",
       "      <td>2012_Canada</td>\n",
       "      <td>2012_20</td>\n",
       "      <td>\\nAFGHANISTAN\\nNATO • ISAF (NTM-A) • Operation...</td>\n",
       "      <td>\\nUnited Kingdom 420; 2 trg unit; 1 hel flt wi...</td>\n",
       "      <td>{'AFGHANISTAN': 'NATO • ISAF (NTM-A) • Operati...</td>\n",
       "    </tr>\n",
       "    <tr>\n",
       "      <th>1</th>\n",
       "      <td>United States US</td>\n",
       "      <td>\\nUnited States Dollar $\\n2011\\n2012\\n2013\\nG...</td>\n",
       "      <td>2012</td>\n",
       "      <td>UNITED STATES US</td>\n",
       "      <td>United States</td>\n",
       "      <td>USA</td>\n",
       "      <td>2</td>\n",
       "      <td>2012_United States</td>\n",
       "      <td>2012_2</td>\n",
       "      <td>\\nAFGHANISTAN\\nNATO • ISAF 68,000; 1 corps HQ...</td>\n",
       "      <td>\\nCanada 3 USCENTCOM; 303 NORTHCOM (NORAD)\\nGe...</td>\n",
       "      <td>{'AFGHANISTAN': 'NATO • ISAF 68,000; 1 corps H...</td>\n",
       "    </tr>\n",
       "    <tr>\n",
       "      <th>2</th>\n",
       "      <td>Albania ALB</td>\n",
       "      <td>\\nAlbanian Lek \\n2011\\n2012\\n2013\\nGDP \\nlek ...</td>\n",
       "      <td>2012</td>\n",
       "      <td>ALBANIA ALB</td>\n",
       "      <td>Albania</td>\n",
       "      <td>ALB</td>\n",
       "      <td>339</td>\n",
       "      <td>2012_Albania</td>\n",
       "      <td>2012_339</td>\n",
       "      <td>\\nLegal provisions for foreign deployment:\\nCo...</td>\n",
       "      <td>\\nItaly 18 (Delegazione Italiana Esperti)</td>\n",
       "      <td>{'AFGHANISTAN': 'NATO • ISAF 212; 1 inf coy', ...</td>\n",
       "    </tr>\n",
       "    <tr>\n",
       "      <th>3</th>\n",
       "      <td>Albania ALB</td>\n",
       "      <td>\\nAlbanian Lek \\n2011\\n2012\\n2013\\nGDP \\nlek ...</td>\n",
       "      <td>2012</td>\n",
       "      <td>ALBANIA ALB</td>\n",
       "      <td>Albania</td>\n",
       "      <td>ALB</td>\n",
       "      <td>339</td>\n",
       "      <td>2012_Albania</td>\n",
       "      <td>2012_339</td>\n",
       "      <td>\\nLegal provisions for foreign deployment:\\nCo...</td>\n",
       "      <td>\\nItaly 18 (Delegazione Italiana Esperti)</td>\n",
       "      <td>{'AFGHANISTAN': 'NATO • ISAF 212; 1 inf coy', ...</td>\n",
       "    </tr>\n",
       "    <tr>\n",
       "      <th>4</th>\n",
       "      <td>Austria A</td>\n",
       "      <td>UT \\nEuro € \\n2011\\n2012\\n2013\\nGDP \\n€\\n301bn...</td>\n",
       "      <td>2012</td>\n",
       "      <td>AUSTRIA A</td>\n",
       "      <td>Austria</td>\n",
       "      <td>AUS</td>\n",
       "      <td>305</td>\n",
       "      <td>2012_Austria</td>\n",
       "      <td>2012_305</td>\n",
       "      <td>\\nLegal provisions for foreign deployment:\\nCo...</td>\n",
       "      <td>no foreign forces</td>\n",
       "      <td>{'AFGHANISTAN': 'NATO • ISAF 3', 'BOSNIA-HERZE...</td>\n",
       "    </tr>\n",
       "    <tr>\n",
       "      <th>...</th>\n",
       "      <td>...</td>\n",
       "      <td>...</td>\n",
       "      <td>...</td>\n",
       "      <td>...</td>\n",
       "      <td>...</td>\n",
       "      <td>...</td>\n",
       "      <td>...</td>\n",
       "      <td>...</td>\n",
       "      <td>...</td>\n",
       "      <td>...</td>\n",
       "      <td>...</td>\n",
       "      <td>...</td>\n",
       "    </tr>\n",
       "    <tr>\n",
       "      <th>212</th>\n",
       "      <td>Uganda UGA</td>\n",
       "      <td>\\nUgandan Shilling UGX\\n2021\\n2022\\n2023\\nGDP ...</td>\n",
       "      <td>2022</td>\n",
       "      <td>UGANDA UGA</td>\n",
       "      <td>Uganda</td>\n",
       "      <td>UGA</td>\n",
       "      <td>500</td>\n",
       "      <td>2022_Uganda</td>\n",
       "      <td>2022_500</td>\n",
       "      <td>\\nSOMALIA: AU • ATMIS 5,800; 7 inf bn; UN • UN...</td>\n",
       "      <td>no foreign forces</td>\n",
       "      <td>{'SOMALIA': ': AU • ATMIS 5,800; 7 inf bn; UN ...</td>\n",
       "    </tr>\n",
       "    <tr>\n",
       "      <th>213</th>\n",
       "      <td>Uganda UGA</td>\n",
       "      <td>\\nUgandan Shilling UGX\\n2021\\n2022\\n2023\\nGDP ...</td>\n",
       "      <td>2022</td>\n",
       "      <td>UGANDA UGA</td>\n",
       "      <td>Uganda</td>\n",
       "      <td>UGA</td>\n",
       "      <td>500</td>\n",
       "      <td>2022_Uganda</td>\n",
       "      <td>2022_500</td>\n",
       "      <td>\\nSOMALIA: AU • ATMIS 5,800; 7 inf bn; UN • UN...</td>\n",
       "      <td>no foreign forces</td>\n",
       "      <td>{'SOMALIA': ': AU • ATMIS 5,800; 7 inf bn; UN ...</td>\n",
       "    </tr>\n",
       "    <tr>\n",
       "      <th>214</th>\n",
       "      <td>Zambia Z</td>\n",
       "      <td>MB\\nZambian Kwacha ZMW\\n2021\\n2022\\n2023\\nGDP ...</td>\n",
       "      <td>2022</td>\n",
       "      <td>ZAMBIA Z</td>\n",
       "      <td>Zambia</td>\n",
       "      <td>ZAM</td>\n",
       "      <td>551</td>\n",
       "      <td>2022_Zambia</td>\n",
       "      <td>2022_551</td>\n",
       "      <td>\\nCENTRAL AFRICAN REPUBLIC: UN • MINUSCA 930; ...</td>\n",
       "      <td>no foreign forces</td>\n",
       "      <td>{'CENTRAL AFRICAN REPUBLIC': ': UN • MINUSCA 9...</td>\n",
       "    </tr>\n",
       "    <tr>\n",
       "      <th>215</th>\n",
       "      <td>Zimbabwe ZWE</td>\n",
       "      <td>\\nZimbabwe Dollar ZWL\\n2021\\n2022\\n2023\\nGDP \\...</td>\n",
       "      <td>2022</td>\n",
       "      <td>ZIMBABWE ZWE</td>\n",
       "      <td>Zimbabwe</td>\n",
       "      <td>ZIM</td>\n",
       "      <td>552</td>\n",
       "      <td>2022_Zimbabwe</td>\n",
       "      <td>2022_552</td>\n",
       "      <td>\\nCENTRAL AFRICAN REPUBLIC: UN • MINUSCA 3\\nDE...</td>\n",
       "      <td>no foreign forces</td>\n",
       "      <td>{'CENTRAL AFRICAN REPUBLIC': ': UN • MINUSCA 3...</td>\n",
       "    </tr>\n",
       "    <tr>\n",
       "      <th>216</th>\n",
       "      <td>Zimbabwe ZWE</td>\n",
       "      <td>\\nZimbabwe Dollar ZWL\\n2021\\n2022\\n2023\\nGDP \\...</td>\n",
       "      <td>2022</td>\n",
       "      <td>ZIMBABWE ZWE</td>\n",
       "      <td>Zimbabwe</td>\n",
       "      <td>ZIM</td>\n",
       "      <td>552</td>\n",
       "      <td>2022_Zimbabwe</td>\n",
       "      <td>2022_552</td>\n",
       "      <td>\\nCENTRAL AFRICAN REPUBLIC: UN • MINUSCA 3\\nDE...</td>\n",
       "      <td>no foreign forces</td>\n",
       "      <td>{'CENTRAL AFRICAN REPUBLIC': ': UN • MINUSCA 3...</td>\n",
       "    </tr>\n",
       "  </tbody>\n",
       "</table>\n",
       "<p>1748 rows × 12 columns</p>\n",
       "</div>"
      ],
      "text/plain": [
       "           country_co                                          paragraph  \\\n",
       "0          Canada CAN   \\nCanadian Dollar $\\n2011\\n2012\\n2013\\nGDP \\n...   \n",
       "1    United States US   \\nUnited States Dollar $\\n2011\\n2012\\n2013\\nG...   \n",
       "2         Albania ALB   \\nAlbanian Lek \\n2011\\n2012\\n2013\\nGDP \\nlek ...   \n",
       "3         Albania ALB   \\nAlbanian Lek \\n2011\\n2012\\n2013\\nGDP \\nlek ...   \n",
       "4           Austria A  UT \\nEuro € \\n2011\\n2012\\n2013\\nGDP \\n€\\n301bn...   \n",
       "..                ...                                                ...   \n",
       "212        Uganda UGA  \\nUgandan Shilling UGX\\n2021\\n2022\\n2023\\nGDP ...   \n",
       "213        Uganda UGA  \\nUgandan Shilling UGX\\n2021\\n2022\\n2023\\nGDP ...   \n",
       "214          Zambia Z  MB\\nZambian Kwacha ZMW\\n2021\\n2022\\n2023\\nGDP ...   \n",
       "215      Zimbabwe ZWE  \\nZimbabwe Dollar ZWL\\n2021\\n2022\\n2023\\nGDP \\...   \n",
       "216      Zimbabwe ZWE  \\nZimbabwe Dollar ZWL\\n2021\\n2022\\n2023\\nGDP \\...   \n",
       "\n",
       "     year        COUNTRY_CO       deployer cowc1 ccode1       year_deployer  \\\n",
       "0    2012        CANADA CAN         Canada   CAN     20         2012_Canada   \n",
       "1    2012  UNITED STATES US  United States   USA      2  2012_United States   \n",
       "2    2012       ALBANIA ALB        Albania   ALB    339        2012_Albania   \n",
       "3    2012       ALBANIA ALB        Albania   ALB    339        2012_Albania   \n",
       "4    2012         AUSTRIA A        Austria   AUS    305        2012_Austria   \n",
       "..    ...               ...            ...   ...    ...                 ...   \n",
       "212  2022        UGANDA UGA         Uganda   UGA    500         2022_Uganda   \n",
       "213  2022        UGANDA UGA         Uganda   UGA    500         2022_Uganda   \n",
       "214  2022          ZAMBIA Z         Zambia   ZAM    551         2022_Zambia   \n",
       "215  2022      ZIMBABWE ZWE       Zimbabwe   ZIM    552       2022_Zimbabwe   \n",
       "216  2022      ZIMBABWE ZWE       Zimbabwe   ZIM    552       2022_Zimbabwe   \n",
       "\n",
       "    year_ccode1                                         deployment  \\\n",
       "0       2012_20  \\nAFGHANISTAN\\nNATO • ISAF (NTM-A) • Operation...   \n",
       "1        2012_2   \\nAFGHANISTAN\\nNATO • ISAF 68,000; 1 corps HQ...   \n",
       "2      2012_339  \\nLegal provisions for foreign deployment:\\nCo...   \n",
       "3      2012_339  \\nLegal provisions for foreign deployment:\\nCo...   \n",
       "4      2012_305  \\nLegal provisions for foreign deployment:\\nCo...   \n",
       "..          ...                                                ...   \n",
       "212    2022_500  \\nSOMALIA: AU • ATMIS 5,800; 7 inf bn; UN • UN...   \n",
       "213    2022_500  \\nSOMALIA: AU • ATMIS 5,800; 7 inf bn; UN • UN...   \n",
       "214    2022_551  \\nCENTRAL AFRICAN REPUBLIC: UN • MINUSCA 930; ...   \n",
       "215    2022_552  \\nCENTRAL AFRICAN REPUBLIC: UN • MINUSCA 3\\nDE...   \n",
       "216    2022_552  \\nCENTRAL AFRICAN REPUBLIC: UN • MINUSCA 3\\nDE...   \n",
       "\n",
       "                                foreign_forces_section  \\\n",
       "0    \\nUnited Kingdom 420; 2 trg unit; 1 hel flt wi...   \n",
       "1    \\nCanada 3 USCENTCOM; 303 NORTHCOM (NORAD)\\nGe...   \n",
       "2            \\nItaly 18 (Delegazione Italiana Esperti)   \n",
       "3            \\nItaly 18 (Delegazione Italiana Esperti)   \n",
       "4                                    no foreign forces   \n",
       "..                                                 ...   \n",
       "212                                  no foreign forces   \n",
       "213                                  no foreign forces   \n",
       "214                                  no foreign forces   \n",
       "215                                  no foreign forces   \n",
       "216                                  no foreign forces   \n",
       "\n",
       "                                     deployment_parsed  \n",
       "0    {'AFGHANISTAN': 'NATO • ISAF (NTM-A) • Operati...  \n",
       "1    {'AFGHANISTAN': 'NATO • ISAF 68,000; 1 corps H...  \n",
       "2    {'AFGHANISTAN': 'NATO • ISAF 212; 1 inf coy', ...  \n",
       "3    {'AFGHANISTAN': 'NATO • ISAF 212; 1 inf coy', ...  \n",
       "4    {'AFGHANISTAN': 'NATO • ISAF 3', 'BOSNIA-HERZE...  \n",
       "..                                                 ...  \n",
       "212  {'SOMALIA': ': AU • ATMIS 5,800; 7 inf bn; UN ...  \n",
       "213  {'SOMALIA': ': AU • ATMIS 5,800; 7 inf bn; UN ...  \n",
       "214  {'CENTRAL AFRICAN REPUBLIC': ': UN • MINUSCA 9...  \n",
       "215  {'CENTRAL AFRICAN REPUBLIC': ': UN • MINUSCA 3...  \n",
       "216  {'CENTRAL AFRICAN REPUBLIC': ': UN • MINUSCA 3...  \n",
       "\n",
       "[1748 rows x 12 columns]"
      ]
     },
     "execution_count": 351,
     "metadata": {},
     "output_type": "execute_result"
    }
   ],
   "source": [
    "deployment_data['']"
   ]
  },
  {
   "cell_type": "markdown",
   "id": "16a06b5d",
   "metadata": {},
   "source": [
    "Смотрим в каких случаях число стран хостящих войска не совпадает с длинной additional_info"
   ]
  },
  {
   "cell_type": "code",
   "execution_count": 86,
   "id": "7ee1ac56",
   "metadata": {
    "scrolled": true
   },
   "outputs": [
    {
     "name": "stdout",
     "output_type": "stream",
     "text": [
      "Функция ошибается всего на 3 случаях деплоймента - т е одной страны в отдельный год.\n",
      "Это 0.17 от удачного числа спарсенных деплойментов\n",
      "\n"
     ]
    }
   ],
   "source": [
    "deployment_data['host_len'] = deployment_data['host_balance'].apply(lambda x: len(x))\n",
    "deployment_data['add_info'] = deployment_data['Additional_Info'].apply(lambda x: len(x))\n",
    "\n",
    "\n",
    "deployment_data['need_check'] = np.where(\n",
    "    deployment_data['host_len'] != deployment_data['add_info'] , 1, 0\n",
    ")\n",
    "\n",
    "error_abolute = deployment_data[deployment_data.need_check ==1 ].shape[0]\n",
    "error_percentage = round(100 * deployment_data[deployment_data.need_check ==1 ].shape[0]/deployment_data.shape[0] ,2 )\n",
    "\n",
    "print(\"Функция ошибается всего на {} случаях деплоймента - т е одной страны в отдельный год.\\\n",
    "\\nЭто {} от удачного числа спарсенных деплойментов\".format(error_abolute, error_percentage))\n",
    "\n",
    "print(\"\")\n",
    "\n",
    "\n",
    "deployment_data_clear = deployment_data[deployment_data.need_check !=1 ]\n",
    "deployment_data_clear = deployment_data_clear[[ 'deployment', 'ccode1', 'deployer', 'host_balance', 'Additional_Info', 'year']]"
   ]
  },
  {
   "cell_type": "code",
   "execution_count": 87,
   "id": "d6ee0e5c",
   "metadata": {},
   "outputs": [
    {
     "name": "stdout",
     "output_type": "stream",
     "text": [
      "['Bangladesh BGD', 'United States US', 'Vietnam VNM']\n"
     ]
    }
   ],
   "source": [
    "print(deployment_data[deployment_data.need_check ==1 ]['country_co'].to_list() )"
   ]
  },
  {
   "cell_type": "code",
   "execution_count": 88,
   "id": "63f13415",
   "metadata": {
    "scrolled": true
   },
   "outputs": [
    {
     "data": {
      "text/plain": [
       "Index(['deployment', 'ccode1', 'deployer', 'host_balance', 'Additional_Info',\n",
       "       'year'],\n",
       "      dtype='object')"
      ]
     },
     "execution_count": 88,
     "metadata": {},
     "output_type": "execute_result"
    }
   ],
   "source": [
    "deployment_data_clear.columns"
   ]
  },
  {
   "cell_type": "code",
   "execution_count": 89,
   "id": "265b375d",
   "metadata": {
    "scrolled": false
   },
   "outputs": [
    {
     "data": {
      "text/html": [
       "<div>\n",
       "<style scoped>\n",
       "    .dataframe tbody tr th:only-of-type {\n",
       "        vertical-align: middle;\n",
       "    }\n",
       "\n",
       "    .dataframe tbody tr th {\n",
       "        vertical-align: top;\n",
       "    }\n",
       "\n",
       "    .dataframe thead th {\n",
       "        text-align: right;\n",
       "    }\n",
       "</style>\n",
       "<table border=\"1\" class=\"dataframe\">\n",
       "  <thead>\n",
       "    <tr style=\"text-align: right;\">\n",
       "      <th></th>\n",
       "      <th>id</th>\n",
       "      <th>name</th>\n",
       "      <th>subjects</th>\n",
       "      <th>grades</th>\n",
       "    </tr>\n",
       "  </thead>\n",
       "  <tbody>\n",
       "    <tr>\n",
       "      <th>0</th>\n",
       "      <td>1</td>\n",
       "      <td>Alice</td>\n",
       "      <td>[Math, Science]</td>\n",
       "      <td>[90, 85]</td>\n",
       "    </tr>\n",
       "    <tr>\n",
       "      <th>1</th>\n",
       "      <td>2</td>\n",
       "      <td>Bob</td>\n",
       "      <td>[History]</td>\n",
       "      <td>[88]</td>\n",
       "    </tr>\n",
       "    <tr>\n",
       "      <th>2</th>\n",
       "      <td>3</td>\n",
       "      <td>Charlie</td>\n",
       "      <td>[English, Art]</td>\n",
       "      <td>[95, 92]</td>\n",
       "    </tr>\n",
       "  </tbody>\n",
       "</table>\n",
       "</div>"
      ],
      "text/plain": [
       "   id     name         subjects    grades\n",
       "0   1    Alice  [Math, Science]  [90, 85]\n",
       "1   2      Bob        [History]      [88]\n",
       "2   3  Charlie   [English, Art]  [95, 92]"
      ]
     },
     "execution_count": 89,
     "metadata": {},
     "output_type": "execute_result"
    }
   ],
   "source": [
    "data = {'id': [1, 2, 3],\n",
    "        'name': ['Alice', 'Bob', 'Charlie'],\n",
    "        'subjects': [['Math', 'Science'], ['History'], ['English', 'Art']],\n",
    "        'grades': [[90, 85], [88], [95, 92]]}\n",
    "df = pd.DataFrame(data)\n",
    "df"
   ]
  },
  {
   "cell_type": "code",
   "execution_count": 31,
   "id": "7bef3b68",
   "metadata": {
    "scrolled": true
   },
   "outputs": [
    {
     "data": {
      "text/html": [
       "<div>\n",
       "<style scoped>\n",
       "    .dataframe tbody tr th:only-of-type {\n",
       "        vertical-align: middle;\n",
       "    }\n",
       "\n",
       "    .dataframe tbody tr th {\n",
       "        vertical-align: top;\n",
       "    }\n",
       "\n",
       "    .dataframe thead th {\n",
       "        text-align: right;\n",
       "    }\n",
       "</style>\n",
       "<table border=\"1\" class=\"dataframe\">\n",
       "  <thead>\n",
       "    <tr style=\"text-align: right;\">\n",
       "      <th></th>\n",
       "      <th>id</th>\n",
       "      <th>name</th>\n",
       "      <th>subjects</th>\n",
       "      <th>grades</th>\n",
       "    </tr>\n",
       "  </thead>\n",
       "  <tbody>\n",
       "    <tr>\n",
       "      <th>0</th>\n",
       "      <td>1</td>\n",
       "      <td>Alice</td>\n",
       "      <td>Math</td>\n",
       "      <td>90</td>\n",
       "    </tr>\n",
       "    <tr>\n",
       "      <th>0</th>\n",
       "      <td>1</td>\n",
       "      <td>Alice</td>\n",
       "      <td>Math</td>\n",
       "      <td>85</td>\n",
       "    </tr>\n",
       "    <tr>\n",
       "      <th>0</th>\n",
       "      <td>1</td>\n",
       "      <td>Alice</td>\n",
       "      <td>Science</td>\n",
       "      <td>90</td>\n",
       "    </tr>\n",
       "    <tr>\n",
       "      <th>0</th>\n",
       "      <td>1</td>\n",
       "      <td>Alice</td>\n",
       "      <td>Science</td>\n",
       "      <td>85</td>\n",
       "    </tr>\n",
       "    <tr>\n",
       "      <th>1</th>\n",
       "      <td>2</td>\n",
       "      <td>Bob</td>\n",
       "      <td>History</td>\n",
       "      <td>88</td>\n",
       "    </tr>\n",
       "    <tr>\n",
       "      <th>2</th>\n",
       "      <td>3</td>\n",
       "      <td>Charlie</td>\n",
       "      <td>English</td>\n",
       "      <td>95</td>\n",
       "    </tr>\n",
       "    <tr>\n",
       "      <th>2</th>\n",
       "      <td>3</td>\n",
       "      <td>Charlie</td>\n",
       "      <td>English</td>\n",
       "      <td>92</td>\n",
       "    </tr>\n",
       "    <tr>\n",
       "      <th>2</th>\n",
       "      <td>3</td>\n",
       "      <td>Charlie</td>\n",
       "      <td>Art</td>\n",
       "      <td>95</td>\n",
       "    </tr>\n",
       "    <tr>\n",
       "      <th>2</th>\n",
       "      <td>3</td>\n",
       "      <td>Charlie</td>\n",
       "      <td>Art</td>\n",
       "      <td>92</td>\n",
       "    </tr>\n",
       "  </tbody>\n",
       "</table>\n",
       "</div>"
      ],
      "text/plain": [
       "   id     name subjects grades\n",
       "0   1    Alice     Math     90\n",
       "0   1    Alice     Math     85\n",
       "0   1    Alice  Science     90\n",
       "0   1    Alice  Science     85\n",
       "1   2      Bob  History     88\n",
       "2   3  Charlie  English     95\n",
       "2   3  Charlie  English     92\n",
       "2   3  Charlie      Art     95\n",
       "2   3  Charlie      Art     92"
      ]
     },
     "execution_count": 31,
     "metadata": {},
     "output_type": "execute_result"
    }
   ],
   "source": [
    "df.explode('subjects').explode('grades')"
   ]
  },
  {
   "cell_type": "code",
   "execution_count": 36,
   "id": "580ffd1c",
   "metadata": {},
   "outputs": [],
   "source": [
    "balance_parsed = deployment_data_clear.explode('host_balance')\n",
    "add_info = deployment_data_clear.explode('Additional_Info')['Additional_Info'].to_list()\n",
    "balance_parsed['Additional_Info'] = add_info"
   ]
  },
  {
   "cell_type": "code",
   "execution_count": 37,
   "id": "be087208",
   "metadata": {},
   "outputs": [],
   "source": [
    "balance_parsed = balance_parsed.merge(host, how= 'left', on ='host_balance')\n",
    "balance_parsed['dyad'] = balance_parsed['year'].astype(str) +'_' + balance_parsed['ccode1'].astype(str) + '_' +balance_parsed['ccode2'].astype(str)\n",
    "balance_parsed['dyad_country'] = balance_parsed['year'].astype(str) +'_' + balance_parsed['deployer'].astype(str) + '_' +balance_parsed['host'].astype(str)"
   ]
  },
  {
   "cell_type": "code",
   "execution_count": null,
   "id": "03f6ec49",
   "metadata": {},
   "outputs": [],
   "source": []
  },
  {
   "cell_type": "code",
   "execution_count": 25,
   "id": "026d41f6",
   "metadata": {},
   "outputs": [],
   "source": [
    "balance_real = pd.read_excel(\"12.01.24.xlsx\")\n",
    "decoder1 = pd.read_excel(r'C:\\Users\\79534\\Documents\\Articles\\data\\coding.xlsx', sheet_name =0)\n",
    "decoder2 =  pd.read_excel(r'C:\\Users\\79534\\Documents\\Articles\\data\\coding.xlsx', sheet_name=1)\n",
    "balance_real = balance_real.merge(decoder1, how ='left', on='ccode1')\n",
    "balance_real = balance_real.merge(decoder2, how ='left', on='ccode2')"
   ]
  },
  {
   "cell_type": "code",
   "execution_count": 38,
   "id": "1cbb7e77",
   "metadata": {},
   "outputs": [],
   "source": [
    "balance_real['dyad'] = balance_real['year'].astype(str) +'_' + balance_real['ccode1'].astype(str) + '_' +balance_real['ccode2'].astype(str)\n",
    "balance_real['dyad_country'] = balance_real['year'].astype(str) +'_' + balance_real['deployer'].astype(str) + '_' +balance_real['host'].astype(str)"
   ]
  },
  {
   "cell_type": "code",
   "execution_count": 42,
   "id": "acd94dbb",
   "metadata": {},
   "outputs": [],
   "source": [
    "b = balance_real[balance_real.year > 2012]"
   ]
  },
  {
   "cell_type": "code",
   "execution_count": 40,
   "id": "db267928",
   "metadata": {
    "scrolled": true
   },
   "outputs": [
    {
     "data": {
      "text/plain": [
       "array([1985, 1986, 1987, 1988, 1989, 1990, 1991, 1992, 1993, 1994, 1995,\n",
       "       1996, 1997, 1998, 1999, 2000, 2001, 2002, 2003, 2004, 2005, 2006,\n",
       "       2007, 2008, 2009, 2010, 2011, 2012, 2013, 2014, 2015, 2016, 2017,\n",
       "       2018, 2019, 2020, 2021, 2022], dtype=int64)"
      ]
     },
     "execution_count": 40,
     "metadata": {},
     "output_type": "execute_result"
    }
   ],
   "source": [
    "balance_real['year'].unique()"
   ]
  },
  {
   "cell_type": "code",
   "execution_count": 51,
   "id": "bece13e3",
   "metadata": {
    "scrolled": true
   },
   "outputs": [
    {
     "data": {
      "text/html": [
       "<div>\n",
       "<style scoped>\n",
       "    .dataframe tbody tr th:only-of-type {\n",
       "        vertical-align: middle;\n",
       "    }\n",
       "\n",
       "    .dataframe tbody tr th {\n",
       "        vertical-align: top;\n",
       "    }\n",
       "\n",
       "    .dataframe thead th {\n",
       "        text-align: right;\n",
       "    }\n",
       "</style>\n",
       "<table border=\"1\" class=\"dataframe\">\n",
       "  <thead>\n",
       "    <tr style=\"text-align: right;\">\n",
       "      <th></th>\n",
       "      <th>0</th>\n",
       "    </tr>\n",
       "  </thead>\n",
       "  <tbody>\n",
       "    <tr>\n",
       "      <th>0</th>\n",
       "      <td>2019_Thailand_Pakistan</td>\n",
       "    </tr>\n",
       "    <tr>\n",
       "      <th>1</th>\n",
       "      <td>2022_Germany_United States</td>\n",
       "    </tr>\n",
       "    <tr>\n",
       "      <th>2</th>\n",
       "      <td>2013_United States_United Kingdom</td>\n",
       "    </tr>\n",
       "    <tr>\n",
       "      <th>3</th>\n",
       "      <td>2021_Norway_Somalia</td>\n",
       "    </tr>\n",
       "    <tr>\n",
       "      <th>4</th>\n",
       "      <td>2022_Spain_Bosnia and Herzegovina</td>\n",
       "    </tr>\n",
       "    <tr>\n",
       "      <th>...</th>\n",
       "      <td>...</td>\n",
       "    </tr>\n",
       "    <tr>\n",
       "      <th>762</th>\n",
       "      <td>2017_Ireland_Bosnia and Herzegovina</td>\n",
       "    </tr>\n",
       "    <tr>\n",
       "      <th>763</th>\n",
       "      <td>2015_India_Israel</td>\n",
       "    </tr>\n",
       "    <tr>\n",
       "      <th>764</th>\n",
       "      <td>2013_Germany_United States</td>\n",
       "    </tr>\n",
       "    <tr>\n",
       "      <th>765</th>\n",
       "      <td>2018_Finland_Lithuania</td>\n",
       "    </tr>\n",
       "    <tr>\n",
       "      <th>766</th>\n",
       "      <td>2017_Philippines_Pakistan</td>\n",
       "    </tr>\n",
       "  </tbody>\n",
       "</table>\n",
       "<p>767 rows × 1 columns</p>\n",
       "</div>"
      ],
      "text/plain": [
       "                                       0\n",
       "0                 2019_Thailand_Pakistan\n",
       "1            2022_Germany_United States \n",
       "2      2013_United States_United Kingdom\n",
       "3                    2021_Norway_Somalia\n",
       "4      2022_Spain_Bosnia and Herzegovina\n",
       "..                                   ...\n",
       "762  2017_Ireland_Bosnia and Herzegovina\n",
       "763                    2015_India_Israel\n",
       "764          2013_Germany_United States \n",
       "765               2018_Finland_Lithuania\n",
       "766            2017_Philippines_Pakistan\n",
       "\n",
       "[767 rows x 1 columns]"
      ]
     },
     "execution_count": 51,
     "metadata": {},
     "output_type": "execute_result"
    }
   ],
   "source": [
    "pd.DataFrame(set(b['dyad_country']) -  set(balance_parsed['dyad_country'])   )"
   ]
  },
  {
   "cell_type": "code",
   "execution_count": 72,
   "id": "6fc0b0e2",
   "metadata": {},
   "outputs": [
    {
     "data": {
      "text/plain": [
       "True"
      ]
     },
     "execution_count": 72,
     "metadata": {},
     "output_type": "execute_result"
    }
   ],
   "source": [
    "'GERMANY' in g.explode('host_balance')['host_balance'].to_list()"
   ]
  },
  {
   "cell_type": "code",
   "execution_count": 97,
   "id": "791835c7",
   "metadata": {
    "scrolled": true
   },
   "outputs": [],
   "source": [
    "g = deployment_data_clear[(deployment_data_clear.year == 2013 )& (deployment_data_clear.deployer =='United States') ]"
   ]
  },
  {
   "cell_type": "code",
   "execution_count": 78,
   "id": "c0950747",
   "metadata": {},
   "outputs": [],
   "source": [
    "g1 = g.explode('host_balance')\n",
    "g1['ai'] = g.explode('Additional_Info')['Additional_Info'].to_list()"
   ]
  },
  {
   "cell_type": "code",
   "execution_count": null,
   "id": "9064480d",
   "metadata": {},
   "outputs": [],
   "source": [
    "g1"
   ]
  },
  {
   "cell_type": "code",
   "execution_count": 79,
   "id": "c5090165",
   "metadata": {
    "scrolled": true
   },
   "outputs": [
    {
     "data": {
      "text/plain": [
       "False"
      ]
     },
     "execution_count": 79,
     "metadata": {},
     "output_type": "execute_result"
    }
   ],
   "source": [
    "'PAKISTAN' in g1['host_balance'].to_list()"
   ]
  },
  {
   "cell_type": "code",
   "execution_count": 99,
   "id": "ac8c4c75",
   "metadata": {},
   "outputs": [
    {
     "data": {
      "text/html": [
       "<div>\n",
       "<style scoped>\n",
       "    .dataframe tbody tr th:only-of-type {\n",
       "        vertical-align: middle;\n",
       "    }\n",
       "\n",
       "    .dataframe tbody tr th {\n",
       "        vertical-align: top;\n",
       "    }\n",
       "\n",
       "    .dataframe thead th {\n",
       "        text-align: right;\n",
       "    }\n",
       "</style>\n",
       "<table border=\"1\" class=\"dataframe\">\n",
       "  <thead>\n",
       "    <tr style=\"text-align: right;\">\n",
       "      <th></th>\n",
       "      <th>deployment</th>\n",
       "      <th>ccode1</th>\n",
       "      <th>deployer</th>\n",
       "      <th>host_balance</th>\n",
       "      <th>Additional_Info</th>\n",
       "      <th>year</th>\n",
       "    </tr>\n",
       "  </thead>\n",
       "  <tbody>\n",
       "  </tbody>\n",
       "</table>\n",
       "</div>"
      ],
      "text/plain": [
       "Empty DataFrame\n",
       "Columns: [deployment, ccode1, deployer, host_balance, Additional_Info, year]\n",
       "Index: []"
      ]
     },
     "execution_count": 99,
     "metadata": {},
     "output_type": "execute_result"
    }
   ],
   "source": [
    "g"
   ]
  },
  {
   "cell_type": "code",
   "execution_count": 96,
   "id": "e72b38f1",
   "metadata": {},
   "outputs": [
    {
     "data": {
      "text/plain": [
       "array([], dtype=object)"
      ]
     },
     "execution_count": 96,
     "metadata": {},
     "output_type": "execute_result"
    }
   ],
   "source": [
    "g['deployment'].values"
   ]
  },
  {
   "cell_type": "markdown",
   "id": "c181bf8d",
   "metadata": {},
   "source": [
    "### Что починить\n",
    "\n",
    " - \\nINDIA/PAKISTAN"
   ]
  },
  {
   "cell_type": "code",
   "execution_count": 49,
   "id": "ec3bae03",
   "metadata": {},
   "outputs": [
    {
     "data": {
      "text/plain": [
       "1792"
      ]
     },
     "execution_count": 49,
     "metadata": {},
     "output_type": "execute_result"
    }
   ],
   "source": [
    "len(set(balance_parsed['dyad']) - set(b['dyad']) )"
   ]
  },
  {
   "cell_type": "code",
   "execution_count": null,
   "id": "d0f2ca2c",
   "metadata": {},
   "outputs": [],
   "source": []
  }
 ],
 "metadata": {
  "kernelspec": {
   "display_name": "Python 3 (ipykernel)",
   "language": "python",
   "name": "python3"
  },
  "language_info": {
   "codemirror_mode": {
    "name": "ipython",
    "version": 3
   },
   "file_extension": ".py",
   "mimetype": "text/x-python",
   "name": "python",
   "nbconvert_exporter": "python",
   "pygments_lexer": "ipython3",
   "version": "3.11.5"
  }
 },
 "nbformat": 4,
 "nbformat_minor": 5
}
