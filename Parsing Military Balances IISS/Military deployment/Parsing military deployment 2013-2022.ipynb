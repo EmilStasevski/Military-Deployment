{
 "cells": [
  {
   "cell_type": "code",
   "execution_count": null,
   "id": "21975407",
   "metadata": {},
   "outputs": [],
   "source": []
  },
  {
   "cell_type": "code",
   "execution_count": null,
   "id": "e1ec1088",
   "metadata": {},
   "outputs": [],
   "source": []
  },
  {
   "cell_type": "code",
   "execution_count": null,
   "id": "4ade97ad",
   "metadata": {},
   "outputs": [],
   "source": []
  },
  {
   "cell_type": "code",
   "execution_count": 1,
   "id": "cf554ebc",
   "metadata": {},
   "outputs": [],
   "source": [
    "import polars as pl\n",
    "import re\n",
    "import numpy as np\n",
    "import fitz"
   ]
  },
  {
   "cell_type": "markdown",
   "id": "8b7f4a4f",
   "metadata": {},
   "source": [
    "### Reading pdf balances"
   ]
  },
  {
   "cell_type": "code",
   "execution_count": 3,
   "id": "3aa7673f",
   "metadata": {},
   "outputs": [
    {
     "name": "stdout",
     "output_type": "stream",
     "text": [
      "CPU times: total: 31.6 s\n",
      "Wall time: 33.9 s\n"
     ]
    }
   ],
   "source": [
    "%%time\n",
    "balances_2013_2022 = []\n",
    "\n",
    "for i in range(2013, 2024):\n",
    "    data = []\n",
    "    path= \"balances pdf/\" + str(i)+  \".pdf\"\n",
    "    with fitz.open(path) as doc:\n",
    "        for page in doc:\n",
    "            text = page.get_text()\n",
    "            data.append(text)\n",
    "    lines = []\n",
    "    for i in [i.split('\\n') for i in data]:\n",
    "        for k in i:\n",
    "            lines.append(k)\n",
    "\n",
    "    balance='\\n'.join(lines)\n",
    "\n",
    "    balances_2013_2022.append(balance)"
   ]
  },
  {
   "cell_type": "code",
   "execution_count": null,
   "id": "71abbf34",
   "metadata": {},
   "outputs": [],
   "source": []
  },
  {
   "cell_type": "code",
   "execution_count": null,
   "id": "bf183eb3",
   "metadata": {},
   "outputs": [],
   "source": [
    "def split_paragraphs(balance:str, year:int):\n",
    "    \"\"\"\"\n",
    "    Function \n",
    "    \"\"\"\"\n",
    "    "
   ]
  },
  {
   "cell_type": "code",
   "execution_count": 6,
   "id": "e6964f88",
   "metadata": {},
   "outputs": [
    {
     "data": {
      "text/plain": [
       "9.0"
      ]
     },
     "execution_count": 6,
     "metadata": {},
     "output_type": "execute_result"
    }
   ],
   "source": [
    "np.mean([7,10,8,10,10])"
   ]
  },
  {
   "cell_type": "code",
   "execution_count": 10,
   "id": "bd7ad068",
   "metadata": {},
   "outputs": [
    {
     "data": {
      "text/plain": [
       "8.3"
      ]
     },
     "execution_count": 10,
     "metadata": {},
     "output_type": "execute_result"
    }
   ],
   "source": [
    "4 * 0.95 + 3*0.8 + 3*0.7"
   ]
  },
  {
   "cell_type": "code",
   "execution_count": null,
   "id": "434a54f4",
   "metadata": {},
   "outputs": [],
   "source": []
  }
 ],
 "metadata": {
  "kernelspec": {
   "display_name": "Python 3 (ipykernel)",
   "language": "python",
   "name": "python3"
  },
  "language_info": {
   "codemirror_mode": {
    "name": "ipython",
    "version": 3
   },
   "file_extension": ".py",
   "mimetype": "text/x-python",
   "name": "python",
   "nbconvert_exporter": "python",
   "pygments_lexer": "ipython3",
   "version": "3.11.5"
  }
 },
 "nbformat": 4,
 "nbformat_minor": 5
}
